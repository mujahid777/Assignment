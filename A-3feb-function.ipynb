{
 "cells": [
  {
   "cell_type": "code",
   "execution_count": 1,
   "id": "5e738580-3416-4b2b-9a14-7841e046c398",
   "metadata": {},
   "outputs": [
    {
     "name": "stdout",
     "output_type": "stream",
     "text": [
      "[1, 3, 5, 7, 9, 11, 13, 15, 17, 19, 21, 23, 25]\n"
     ]
    }
   ],
   "source": [
    "#  Q1. Which keyword is used to create a function? Create a function to return a list of odd numbers in the\n",
    "#      range of 1 to 25.\n",
    "\n",
    "# Ans- def keyword is used to create a function.\n",
    "\n",
    "def odd_numbers():\n",
    "    lst = [num for num in range(1,26,2)]\n",
    "    return lst\n",
    "\n",
    "ans = odd_numbers()\n",
    "print(ans)"
   ]
  },
  {
   "cell_type": "code",
   "execution_count": 2,
   "id": "f399972e-35ce-40d3-a6c2-1cb741a776ee",
   "metadata": {},
   "outputs": [],
   "source": [
    "# Q2. Why *args and **kwargs is used in some functions? Create a function each for *args and **kwargs\n",
    "#     to demonstrate their use.\n",
    "\n",
    "# Ans- In Python, we can pass a variable number of arguments to a function using special symbols. There are two special symbols:\n",
    "#      args (Non Keyword Arguments) *kwargs (Keyword Arguments)."
   ]
  },
  {
   "cell_type": "code",
   "execution_count": 3,
   "id": "2f65eb0c-2499-4f1b-9f8c-01e165080c18",
   "metadata": {},
   "outputs": [
    {
     "name": "stdout",
     "output_type": "stream",
     "text": [
      "Sum: 8\n",
      "Sum: 22\n",
      "Sum: 17\n"
     ]
    }
   ],
   "source": [
    "# Use of *args\n",
    "\n",
    "def adder(*num):\n",
    "    sum = 0\n",
    "    \n",
    "    for n in num:\n",
    "        sum = sum + n\n",
    "\n",
    "    print(\"Sum:\",sum)\n",
    "\n",
    "adder(3,5)\n",
    "adder(4,5,6,7)\n",
    "adder(1,2,3,5,6)"
   ]
  },
  {
   "cell_type": "code",
   "execution_count": 4,
   "id": "61415c6c-f312-40a6-a04e-c58594b65b9a",
   "metadata": {},
   "outputs": [
    {
     "name": "stdout",
     "output_type": "stream",
     "text": [
      "\n",
      "Data type of argument: <class 'dict'>\n",
      "Firstname is Mujahid\n",
      "Lastname is Raza\n",
      "Age is 25\n",
      "Phone is 1234567890\n",
      "\n",
      "Data type of argument: <class 'dict'>\n",
      "Firstname is Zeeshan\n",
      "Lastname is Ali\n",
      "Email is zeeshanali234@gmail.com\n",
      "Country is india\n",
      "Age is 26\n",
      "Phone is 783543230\n"
     ]
    }
   ],
   "source": [
    "# Use of kwargs\n",
    "\n",
    "def intro(**data):\n",
    "    print(\"\\nData type of argument:\",type(data))\n",
    "\n",
    "    for key, value in data.items():\n",
    "        print(\"{} is {}\".format(key,value))\n",
    "\n",
    "intro(Firstname=\"Mujahid\", Lastname=\"Raza\", Age=25, Phone=1234567890)\n",
    "intro(Firstname=\"Zeeshan\", Lastname=\"Ali\", Email=\"zeeshanali234@gmail.com\", Country=\"india\", Age=26, Phone=783543230)"
   ]
  },
  {
   "cell_type": "code",
   "execution_count": 5,
   "id": "05b16cd6-bd21-40f4-a352-02fbc0a53dba",
   "metadata": {},
   "outputs": [
    {
     "name": "stdout",
     "output_type": "stream",
     "text": [
      "2\n",
      "4\n",
      "6\n",
      "8\n",
      "10\n"
     ]
    }
   ],
   "source": [
    "#  Q3. What is an iterator in python? Name the method used to initialise the iterator object and the method\n",
    "#      used for iteration. Use these methods to print the first five elements of the given list [2, 4, 6, 8, 10, 12, 14,\n",
    "#      16, 18, 20].\n",
    "\n",
    "# Ans- Iterator in Python is an object that is used to iterate over iterable objects like lists, tuples, dicts, and sets.\n",
    "#      The iterator object is initialized using the iter() method. It uses the next() method for iteration.\n",
    "\n",
    "#    iter(): The iter() method is called for the initialization of an iterator. This returns an iterator object next(): \n",
    "#            The next method returns the next value for the iterable. When we use a for loop to traverse any iterable object,\n",
    "#            internally it uses the iter() method to get an iterator object, which further uses the next() method to iterate over. \n",
    "#            This method raises a StopIteration to signal the end of the iteration.\n",
    "\n",
    "lst = [2, 4, 6, 8, 10, 12, 14,16, 18, 20]\n",
    "lst_iter = iter(lst)\n",
    "\n",
    "print(next(lst_iter))\n",
    "print(next(lst_iter))\n",
    "print(next(lst_iter))\n",
    "print(next(lst_iter))\n",
    "print(next(lst_iter))"
   ]
  },
  {
   "cell_type": "code",
   "execution_count": 6,
   "id": "48e8f73c-7220-4735-9265-3834ce2ef91a",
   "metadata": {},
   "outputs": [
    {
     "name": "stdout",
     "output_type": "stream",
     "text": [
      "0\n",
      "1\n",
      "2\n"
     ]
    }
   ],
   "source": [
    "#  Q4. What is a generator function in python? Why yield keyword is used? Give an example of a generator function.\n",
    "\n",
    "# Ans- In Python, a generator is a function that returns an iterator that produces a sequence of values when iterated over.\n",
    "#      Generators are useful when we want to produce a large sequence of values, but we don't want to store all of them in memory at once.\n",
    "\n",
    "#      In Python, similar to defining a normal function, we can define a generator function using the def keyword, but instead of the \n",
    "#      return statement we use the YIELD statement.\n",
    "\n",
    "#      EX: def generator_name(arg): statements yield something\n",
    "\n",
    "#      Here, the yield keyword is used to produce a value from the generator.\n",
    "\n",
    "#     When the generator function is called, it does not execute the function body immediately. Instead, it returns a generator \n",
    "#     object that can be iterated over to produce the values.\n",
    "\n",
    "def my_generator(n):\n",
    "\n",
    "    # initialize counter\n",
    "    value = 0\n",
    "\n",
    "    # loop until counter is less than n\n",
    "    while value < n:\n",
    "\n",
    "        # produce the current value of the counter\n",
    "        yield value\n",
    "\n",
    "        # increment the counter\n",
    "        value += 1\n",
    "\n",
    "# iterate over the generator object produced by my_generator\n",
    "for value in my_generator(3):\n",
    "\n",
    "    # print each value produced by generator\n",
    "    print(value)"
   ]
  },
  {
   "cell_type": "code",
   "execution_count": 7,
   "id": "a3d2adf9-dc23-4904-8a09-f6db52f8c9f3",
   "metadata": {},
   "outputs": [
    {
     "name": "stdout",
     "output_type": "stream",
     "text": [
      "2 3 5 7 9 11 13 15 17 19 21 23 27 29 31 33 37 39 41 43 "
     ]
    }
   ],
   "source": [
    "#  Q5. Create a generator function for prime numbers less than 1000. Use the next() method to print the first 20 prime numbers.\n",
    "\n",
    "def isPrime(num):\n",
    "    is_prime = True\n",
    "    for div  in range(4, int(num**0.5) + 1):\n",
    "        if num % div == 0:\n",
    "            is_prime = False\n",
    "            return is_prime\n",
    "        \n",
    "    return is_prime\n",
    "        \n",
    "\n",
    "def prime_numbers():\n",
    "    yield 2\n",
    "   \n",
    "    number = 3\n",
    "    while number < 1000:\n",
    "        is_prime = isPrime(number)\n",
    "        \n",
    "        if is_prime:\n",
    "            yield number\n",
    "            \n",
    "        number += 2\n",
    "\n",
    "primes = prime_numbers()\n",
    "\n",
    "for i in range(20):\n",
    "    print(next(primes),end=\" \")\n",
    "        \n",
    "# for value in prime_numbers():\n",
    "#     print(value)\n",
    "\n",
    "            "
   ]
  },
  {
   "cell_type": "code",
   "execution_count": 8,
   "id": "28938133-fde0-4f47-b40d-e5c6a91d8ddc",
   "metadata": {},
   "outputs": [
    {
     "name": "stdout",
     "output_type": "stream",
     "text": [
      "0 1 1 2 3 5 8 13 21 34 "
     ]
    }
   ],
   "source": [
    "# Q6. Write a python program to print the first 10 Fibonacci numbers using a while loop.\n",
    "\n",
    "def fib():\n",
    "    a = 0\n",
    "    b = 1\n",
    "    n = 1\n",
    "    while n <= 10:\n",
    "        print(a,end=\" \")\n",
    "        a,b = b,a+b\n",
    "        n += 1\n",
    "        \n",
    "fib()"
   ]
  },
  {
   "cell_type": "code",
   "execution_count": 9,
   "id": "1e9aa22c-fa3a-44c3-98a0-bd605452d2c6",
   "metadata": {},
   "outputs": [
    {
     "name": "stdout",
     "output_type": "stream",
     "text": [
      "['p', 'w', 's', 'k', 'i', 'l', 'l', 's']\n"
     ]
    }
   ],
   "source": [
    "#  Q7. Write a List Comprehension to iterate through the given string: ‘pwskills’.\n",
    "#      Expected output: ['p', 'w', 's', 'k', 'i', 'l', 'l', 's']\n",
    "\n",
    "\n",
    "s = \"pwskills\"\n",
    "lst = [char for char in s]\n",
    "print(lst)"
   ]
  },
  {
   "cell_type": "code",
   "execution_count": 10,
   "id": "376e8698-d155-4231-973f-e7afff1bd358",
   "metadata": {},
   "outputs": [
    {
     "name": "stdin",
     "output_type": "stream",
     "text": [
      "Enter a number:  32\n"
     ]
    },
    {
     "name": "stdout",
     "output_type": "stream",
     "text": [
      "False\n"
     ]
    }
   ],
   "source": [
    "#  Q8. Write a python program to check whether a given number is Palindrome or not using a while loop.\n",
    "\n",
    "def isPallindrome(num):\n",
    "    return str(num) == str(num)[::-1]\n",
    "\n",
    "num = int(input(\"Enter a number: \"))\n",
    "ans = isPallindrome(num)\n",
    "print(ans)"
   ]
  },
  {
   "cell_type": "code",
   "execution_count": 12,
   "id": "75224283-d267-4744-9123-43b4f515cf09",
   "metadata": {},
   "outputs": [
    {
     "data": {
      "text/plain": [
       "True"
      ]
     },
     "execution_count": 12,
     "metadata": {},
     "output_type": "execute_result"
    }
   ],
   "source": [
    "isPallindrome(131)"
   ]
  },
  {
   "cell_type": "code",
   "execution_count": 13,
   "id": "e94d4ddd-c58d-4483-a9e5-fd85b680ed50",
   "metadata": {},
   "outputs": [
    {
     "name": "stdout",
     "output_type": "stream",
     "text": [
      "[1, 3, 5, 7, 9, 11, 13, 15, 17, 19, 21, 23, 25, 27, 29, 31, 33, 35, 37, 39, 41, 43, 45, 47, 49, 51, 53, 55, 57, 59, 61, 63, 65, 67, 69, 71, 73, 75, 77, 79, 81, 83, 85, 87, 89, 91, 93, 95, 97, 99]\n"
     ]
    }
   ],
   "source": [
    "# Q9. Write a code to print odd numbers from 1 to 100 using list comprehension.\n",
    "\n",
    "#  Note: Use a list comprehension to create a list from 1 to 100 and use another List comprehension to filter\n",
    "#        out odd numbers.\n",
    "\n",
    "lst = [ele  for ele in range(1,101)]\n",
    "lst_odd = [ele for ele in lst if ele&1]\n",
    "print(lst_odd)"
   ]
  },
  {
   "cell_type": "code",
   "execution_count": null,
   "id": "5cc4bd84-6d9b-493a-a7db-a96a6594891e",
   "metadata": {},
   "outputs": [],
   "source": []
  }
 ],
 "metadata": {
  "kernelspec": {
   "display_name": "Python 3 (ipykernel)",
   "language": "python",
   "name": "python3"
  },
  "language_info": {
   "codemirror_mode": {
    "name": "ipython",
    "version": 3
   },
   "file_extension": ".py",
   "mimetype": "text/x-python",
   "name": "python",
   "nbconvert_exporter": "python",
   "pygments_lexer": "ipython3",
   "version": "3.10.8"
  }
 },
 "nbformat": 4,
 "nbformat_minor": 5
}
