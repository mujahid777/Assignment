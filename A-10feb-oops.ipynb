{
 "cells": [
  {
   "cell_type": "code",
   "execution_count": null,
   "id": "1f3402a5-b9c9-4e6d-8e69-8ef072c13c25",
   "metadata": {},
   "outputs": [],
   "source": [
    "###   Q1. Which function is used to open a file? What are the different modes of opening a file?\n",
    "#         Explain each mode of file opening.\n",
    "\n",
    "\n",
    "#   Before performing any operation (like read or write) on the file,first we have to open that file.For this we should use Python's inbuilt function open() But at the time of open, we have to specify mode,which represents the purpose of opening file.\n",
    "\n",
    "#   Sytax1 : f = open(filename, mode)\n",
    "\n",
    "#   Syntax2:\n",
    "#   with open(filename,moded) as f:\n",
    "\n",
    "#   The allowed modes in Python are\n",
    "\n",
    "#   r : open an existing file for read operation. The file pointer is positioned at the\n",
    "#   beginning of the file.If the specified file does not exist then we will get FileNotFoundError.This is default mode\n",
    "\n",
    "#   w : open an existing file for write operation. If the file already contains some data\n",
    "#   then it will be overridden. If the specified file is not already avaialble then this mode will create that file.\n",
    "\n",
    "#   a : open an existing file for append operation. It won't override existing data.If the\n",
    "#   specified file is not already avaialble then this mode will create a new file.\n",
    "\n",
    "#   r+ : To read and write data into the file. The previous data in the file will not be\n",
    "#   deleted.The file pointer is placed at the beginning of the file.\n",
    "\n",
    "#   w+ : To write and read data. It will override existing data.\n",
    "\n",
    "#   a+ : To append and read data from the file.It wont override existing data.\n",
    "\n",
    "#   x : To open a file in exclusive creation mode for write operation. If the file already\n",
    "\n",
    "#   exists then we will get FileExistsError.\n",
    "\n",
    "#   Note: All the above modes are applicable for text files. If the above modes suffixed with 'b' then these represents for binary files. Eg: rb,wb,ab,r+b,w+b,a+b,xb\n",
    "\n",
    "\n",
    "# Examples\n",
    "# Open file in read mode\n",
    "with open('file.txt', 'r') as file:\n",
    "    data = file.read()\n",
    "\n",
    "# Open file in write mode\n",
    "with open('file.txt', 'w') as file:\n",
    "    file.write('Hello World')\n",
    "\n",
    "# Open file in append mode\n",
    "with open('file.txt', 'a') as file:\n",
    "    file.write('Hello World')\n",
    "\n",
    "# Open binary file in binary read mode\n",
    "with open('file.bin', 'rb') as file:\n",
    "    data = file.read()\n",
    "\n",
    "# Open binary file in binary write mode\n",
    "with open('file.bin', 'wb') as file:\n",
    "    file.write(b'Hello World')\n",
    "\n",
    "# Open binary file in binary append mode\n",
    "with open('file.bin', 'ab') as file:\n",
    "    file.write(b'Hello World')\n",
    "    "
   ]
  },
  {
   "cell_type": "code",
   "execution_count": null,
   "id": "d61b5ac8-d99a-448e-ae40-2699a3dfde12",
   "metadata": {},
   "outputs": [],
   "source": [
    "###   Q2. Why close() function is used? Why is it important to close a file?\n",
    "#         The close() function is used to close an open file in Python.\n",
    "\n",
    "#   It's important to close a file in Python for several reasons:\n",
    "\n",
    "#   1)Releasing resources: When you open a file, your system reserves resources, such as memory, for that file. Closing the file frees up those resources for other tasks.\n",
    "\n",
    "#   2)Preventing data corruption: When you write to a file, the data is not immediately written to the file system. It's stored in a buffer, which is flushed to the file\n",
    "#     system when the file is closed. If you don't close a file properly, the data in the buffer may not be written to the file, leading to data corruption.\n",
    "\n",
    "#   3)Avoiding file lock issues: When you open a file, it's locked for use by the current process. If you don't close the file, other processes may not be able to access it,\n",
    "#     leading to file lock issues.\n",
    "\n",
    "#   4)Proper file management: Properly closing files helps ensure that the file system remains in a consistent state. If you don't close a file, the file may remain open, even \n",
    "#    after the Python process has exited, which can lead to unexpected behavior in other programs that try to access the file.\n",
    "\n",
    "#   Here's an example of how to properly close a file in Python:\n",
    "\n",
    "# Open a file for reading\n",
    "file = open(\"file.txt\", \"r\")\n",
    "\n",
    "# Read the contents of the file\n",
    "data = file.read()\n",
    "\n",
    "# Do something with the data\n",
    "# ...\n",
    "\n",
    "# Close the file\n",
    "file.close()\n",
    "# Open a file for reading\n",
    "file = open(\"file.txt\", \"r\")\n",
    "\n",
    "# Read the contents of the file\n",
    "data = file.read()\n",
    "\n",
    "# Do something with the data\n",
    "# ...\n",
    "\n",
    "# Close the file\n",
    "file.close()"
   ]
  },
  {
   "cell_type": "code",
   "execution_count": null,
   "id": "a6231388-694e-4fb4-90a6-385bafb78620",
   "metadata": {},
   "outputs": [],
   "source": [
    "#  In this example, the file is opened for reading, the contents are read, and the file is then properly closed.\n",
    "\n",
    "#   It's also worth mentioning that you can use the with statement in Python to automatically close a file for you, even if an exception is raised during processing. Here's an example:"
   ]
  },
  {
   "cell_type": "code",
   "execution_count": null,
   "id": "5db0eb6e-4c5d-4cc7-9a69-8bc7e3904bcd",
   "metadata": {},
   "outputs": [],
   "source": [
    "with open(\"file.txt\", \"r\") as file:\n",
    "    data = file.read()\n",
    "    # Do something with the data\n",
    "    # ...\n",
    "\n",
    "# The file is automatically closed when the `with` block is exited,\n",
    "# even if an exception was raised during processing."
   ]
  },
  {
   "cell_type": "code",
   "execution_count": 4,
   "id": "16781749-11fc-42bc-89c4-27e75460413a",
   "metadata": {},
   "outputs": [
    {
     "name": "stdout",
     "output_type": "stream",
     "text": [
      "I want to become a Data Scientist\n"
     ]
    }
   ],
   "source": [
    "###  Q3. Write a python program to create a text file. Write ‘I want to become a Data Scientist’ in that file. Then close the file. Open this file and read the content of the file.\n",
    "\n",
    "#   Here's a Python program that creates a text file, writes the specified text to the file, closes the file, and then opens it again to read the contents:\n",
    "\n",
    "# Create a text file and write to it\n",
    "\n",
    "file = open(\"text_file.txt\", \"w\") \n",
    "file.write(\"I want to become a Data Scientist\")\n",
    "file.close()\n",
    "\n",
    "# Open the file and read its contents\n",
    "file = open(\"text_file.txt\", \"r\") \n",
    "content = file.read()\n",
    "print(content)\n",
    "file.close()"
   ]
  },
  {
   "cell_type": "code",
   "execution_count": 5,
   "id": "68ffb309-9536-4b51-a38b-7c4e00b7c3ae",
   "metadata": {},
   "outputs": [
    {
     "name": "stdout",
     "output_type": "stream",
     "text": [
      "I want to become a Data Scientist\n"
     ]
    }
   ],
   "source": [
    "###  Q4. Explain the following with python code: read(), readline() and readlines().\n",
    "\n",
    "#   The read(), readline(), and readlines() functions are used to read the contents of a file in Python. Here's a brief explanation of each function:\n",
    "\n",
    "#   read() - The read() function reads the entire contents of the file as a single string. Here's an example:\n",
    "\n",
    "# Open a file for reading\n",
    "with open(\"text_file.txt\", \"r\") as file:\n",
    "    content = file.read()\n",
    "    print(content)"
   ]
  },
  {
   "cell_type": "code",
   "execution_count": 6,
   "id": "fcd6cdcc-d3ec-48be-9ff1-8173e4669ed2",
   "metadata": {},
   "outputs": [],
   "source": [
    "\n",
    "#   In this example, the read() function reads the entire contents of the file and stores it in the content variable.\n",
    "\n",
    "#   readline() - The readline() function reads a single line from the file. Here's an example:"
   ]
  },
  {
   "cell_type": "code",
   "execution_count": 8,
   "id": "caf0a9e4-f4c9-4f07-a903-95f84aac87ea",
   "metadata": {},
   "outputs": [
    {
     "name": "stdout",
     "output_type": "stream",
     "text": [
      "I want to become a Data Scientist\n"
     ]
    }
   ],
   "source": [
    "# Open a file for reading\n",
    "with open(\"text_file.txt\", \"r\") as file:\n",
    "    line = file.readline()\n",
    "    while line:\n",
    "        print(line)\n",
    "        line = file.readline()"
   ]
  },
  {
   "cell_type": "code",
   "execution_count": 9,
   "id": "3dda057a-91d6-433b-9720-b428981f30d8",
   "metadata": {},
   "outputs": [],
   "source": [
    "#  In this example, the readline() function is used in a while loop to read each line of the file, one line at a time, until the end of the file is reached.\n",
    "\n",
    "#  readlines() - The readlines() function reads the entire contents of the file as a list of strings, where each element of the list corresponds to a single line in the file. Here's an example:"
   ]
  },
  {
   "cell_type": "code",
   "execution_count": 10,
   "id": "c1749804-0768-4271-a289-ef1e6866234b",
   "metadata": {},
   "outputs": [
    {
     "name": "stdout",
     "output_type": "stream",
     "text": [
      "I want to become a Data Scientist\n"
     ]
    }
   ],
   "source": [
    "# Open a file for reading\n",
    "with open(\"text_file.txt\", \"r\") as file:\n",
    "    lines = file.readlines()\n",
    "    for line in lines:\n",
    "        print(line)"
   ]
  },
  {
   "cell_type": "code",
   "execution_count": 11,
   "id": "a0ecd5fd-39fc-4135-a5ec-bdaf7bf2f872",
   "metadata": {},
   "outputs": [],
   "source": [
    "#  In this example, the readlines() function reads the entire contents of the file and stores it in the lines variable, which is a list of strings.\n",
    "#  The contents of the file are then printed to the console, line by line, using a for loop."
   ]
  },
  {
   "cell_type": "code",
   "execution_count": 12,
   "id": "cc1c1d45-8850-4b57-9632-27a6b28cc928",
   "metadata": {},
   "outputs": [
    {
     "name": "stdout",
     "output_type": "stream",
     "text": [
      "I want to become a Data Scientist\n"
     ]
    }
   ],
   "source": [
    "###   Q5. Explain why with statement is used with open(). What is the advantage of using with statement and open() together?\n",
    "\n",
    "\n",
    "#   The with statement is used with open() to ensure that the file is properly closed after processing is completed, even if an exception is raised during processing. \n",
    "#   The with statement provides a convenient way to manage the lifetime of an object, such as a file, and automatically takes care of closing the file when the with block is exited.\n",
    "\n",
    "#   Here's an example of using the with statement with open():\n",
    "\n",
    "with open(\"text_file.txt\", \"r\") as file:\n",
    "    content = file.read()\n",
    "    print(content)"
   ]
  },
  {
   "cell_type": "code",
   "execution_count": 13,
   "id": "75c74242-eaf5-4c87-961c-5c833feb2cdf",
   "metadata": {},
   "outputs": [],
   "source": [
    "#   In this example, the file text_file.txt is opened using the open() function, and the with statement is used to manage the file's lifetime. The file is automatically closed\n",
    "#  when the with block is exited, even if an exception is raised during processing.\n",
    "\n",
    "#  The advantage of using the with statement with open() is that it provides a way to handle file I/O in a clean and consistent manner. \n",
    "#  It eliminates the need to manually close the file using the file.close() method, which can be prone to errors, especially if there are multiple \n",
    "#  files being processed or if an exception is raised during processing.\n",
    "\n",
    "#  By using the with statement, you can ensure that the file is properly closed, even if an exception is raised, which helps to prevent resource leaks and makes your code more robust and reliable."
   ]
  },
  {
   "cell_type": "code",
   "execution_count": 15,
   "id": "c7cfe952-9ac5-4236-ba9b-243ac5673680",
   "metadata": {},
   "outputs": [
    {
     "name": "stdout",
     "output_type": "stream",
     "text": [
      "I want to become a Data Scientist\n"
     ]
    }
   ],
   "source": [
    "###   Q6. Explain the write() and writelines() functions. Give a suitable example.\n",
    "\n",
    "\n",
    "#   The write() and writelines() functions are used to write data to a file in Python.\n",
    "\n",
    "#   1- write() - The write() function writes a string to a file. Here's an example:\n",
    "\n",
    "# Open a file for writing\n",
    "with open(\"text_file1.txt\", \"w\") as file:\n",
    "    file.write(\"I want to become a Data Scientist\")\n",
    "    \n",
    "with open(\"text_file1.txt\",\"r\") as file:\n",
    "    content = file.read()\n",
    "    print(content)\n",
    "    \n",
    "#  In this example, the file text_file.txt is opened using the open() function in write mode (\"w\"), and the write() function is used to write a string to the file.    \n"
   ]
  },
  {
   "cell_type": "code",
   "execution_count": 16,
   "id": "6b9cb0fa-e7a1-42c3-9cac-883da0ee48cb",
   "metadata": {},
   "outputs": [
    {
     "name": "stdout",
     "output_type": "stream",
     "text": [
      "I want to become a Data ScientistData Science is my passion\n"
     ]
    }
   ],
   "source": [
    "#  2- writelines() - The writelines() function writes a list of strings to a file. Here's an example:\n",
    "\n",
    "# Open a file for writing\n",
    "with open(\"text_file2.txt\", \"w\") as file:\n",
    "    lines = [\"I want to become a Data Scientist\", \"Data Science is my passion\"]\n",
    "    file.writelines(lines)\n",
    "\n",
    "with open(\"text_file2.txt\",\"r\") as file:\n",
    "    content = file.read()\n",
    "    print(content)\n",
    "    \n",
    "    \n",
    "#   I want to become a Data ScientistData Science is my passion\n",
    "#   In this example, the file text_file.txt is opened using the open() function in write mode (\"w\"), and the writelines() function is used to write a \n",
    "#   list of strings to the file. The writelines() function writes each element of the list as a separate line in the file.\n",
    "\n",
    "#   Note that when using writelines(), there is no automatic newline character added to the end of each line, so you may need to add the newline character \n",
    "#   explicitly when constructing the list of strings."
   ]
  },
  {
   "cell_type": "code",
   "execution_count": null,
   "id": "b68304f9-bf8c-45e3-b0d2-198978c9949b",
   "metadata": {},
   "outputs": [],
   "source": []
  }
 ],
 "metadata": {
  "kernelspec": {
   "display_name": "Python 3 (ipykernel)",
   "language": "python",
   "name": "python3"
  },
  "language_info": {
   "codemirror_mode": {
    "name": "ipython",
    "version": 3
   },
   "file_extension": ".py",
   "mimetype": "text/x-python",
   "name": "python",
   "nbconvert_exporter": "python",
   "pygments_lexer": "ipython3",
   "version": "3.10.8"
  }
 },
 "nbformat": 4,
 "nbformat_minor": 5
}
