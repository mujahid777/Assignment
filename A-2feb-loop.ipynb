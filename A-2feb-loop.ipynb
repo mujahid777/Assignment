{
 "cells": [
  {
   "cell_type": "code",
   "execution_count": 1,
   "id": "8af93274-0e86-4eaf-8635-d6a0740b47a4",
   "metadata": {},
   "outputs": [],
   "source": [
    "# Q1. Explain with an example each when to use a for loop and a while loop.\n",
    "\n",
    "# Ans - In general, you should use a for loop when you know how many times the loop should run. \n",
    "#       If you want the loop to break based on a condition other than the number of times it runs, you should use a while loop"
   ]
  },
  {
   "cell_type": "code",
   "execution_count": 2,
   "id": "98a5039d-d1f3-4e89-bbbe-f0bd026aaa19",
   "metadata": {},
   "outputs": [
    {
     "name": "stdout",
     "output_type": "stream",
     "text": [
      "1 2 3 4 5 6 7 8 9 10 11 12 13 14 15 16 17 18 19 20 "
     ]
    }
   ],
   "source": [
    "# Example for loop-\n",
    "\n",
    "# Print first 20 natural numbers.\n",
    "\n",
    "for i in range(1,21):\n",
    "    print(i, end = \" \")"
   ]
  },
  {
   "cell_type": "code",
   "execution_count": 3,
   "id": "5752e1ba-2931-43c4-9ca4-b3561bb3b545",
   "metadata": {},
   "outputs": [
    {
     "name": "stdin",
     "output_type": "stream",
     "text": [
      "enter a number:  13\n"
     ]
    },
    {
     "name": "stdout",
     "output_type": "stream",
     "text": [
      "The sum is:  91\n"
     ]
    }
   ],
   "source": [
    "# Example while loop-\n",
    "\n",
    "# The sum of n natural numbers.\n",
    "\n",
    "n = int(input(\"enter a number: \"))\n",
    "i = 1\n",
    "sum = 0\n",
    "while (i <= n):\n",
    "    sum = sum + i\n",
    "    i = i + 1\n",
    "print(\"The sum is: \", sum)"
   ]
  },
  {
   "cell_type": "code",
   "execution_count": 4,
   "id": "50fb74d3-ace0-4fcd-9dab-b11469c73113",
   "metadata": {},
   "outputs": [],
   "source": [
    "# Q2. Write a python program to print the sum and product of the first 10 natural numbers using for and while loop."
   ]
  },
  {
   "cell_type": "code",
   "execution_count": 5,
   "id": "57dd4c36-6ec2-4eec-a2cb-689cba66a29e",
   "metadata": {},
   "outputs": [
    {
     "name": "stdout",
     "output_type": "stream",
     "text": [
      "Sum is:  55\n",
      "Product is:  3628800\n"
     ]
    }
   ],
   "source": [
    "# Using For loop\n",
    "\n",
    "summ = 0\n",
    "product = 1\n",
    "\n",
    "for num in range(1,11):\n",
    "    summ += num\n",
    "    product *= num\n",
    "    \n",
    "print(\"Sum is: \",summ)\n",
    "print(\"Product is: \",product)"
   ]
  },
  {
   "cell_type": "code",
   "execution_count": 6,
   "id": "8f3417e7-ed79-4a07-a459-c4561e9c113b",
   "metadata": {},
   "outputs": [
    {
     "name": "stdout",
     "output_type": "stream",
     "text": [
      "Sum is:  55\n",
      "Product is:  3628800\n"
     ]
    }
   ],
   "source": [
    "#  Using While loop\n",
    "\n",
    "summ = 0\n",
    "product = 1\n",
    "num = 1\n",
    "\n",
    "while num <=10 :\n",
    "    summ += num\n",
    "    product *= num\n",
    "    num += 1\n",
    "    \n",
    "print(\"Sum is: \",summ)\n",
    "print(\"Product is: \",product)"
   ]
  },
  {
   "cell_type": "code",
   "execution_count": 7,
   "id": "4cd5b50f-1c9c-454e-9f00-28d72c9f517e",
   "metadata": {},
   "outputs": [
    {
     "name": "stdin",
     "output_type": "stream",
     "text": [
      "Enter units:  144\n"
     ]
    },
    {
     "name": "stdout",
     "output_type": "stream",
     "text": [
      "714.0\n"
     ]
    }
   ],
   "source": [
    "#  Q3. Create a python program to compute the electricity bill for a household. The per-unit charges in rupees are as follows:\n",
    "#      For the first 100 units, the user will be charged Rs. 4.5 per unit, for the next 100 units, the user will be charged Rs. 6 per unit,\n",
    "#      and for the next 100 units, the user will be charged Rs. 10 per unit, After 300 units and above the user will be charged Rs. 20 per unit.\n",
    "\n",
    "#     You are required to take the units of electricity consumed in a month from the user as input.\n",
    "\n",
    "#     Your program must pass this test case: when the unit of electricity consumed by the user in a month is\n",
    "#     310, the total electricity bill should be 2250.\n",
    "\n",
    "\n",
    "units = int(input(\"Enter units: \"))\n",
    "\n",
    "charge = 0\n",
    "\n",
    "if units <= 100:\n",
    "    charge += units*4.5\n",
    "    \n",
    "elif units <= 200:\n",
    "    charge += 100*4.5 + (units-100)*6\n",
    "    \n",
    "elif units <=300:\n",
    "    charge += 100*4.5 + 100*6 + (units-200)*10\n",
    "    \n",
    "else:\n",
    "    charge += 100*4.5 + 100*6 + 100*10 + (units - 300)*20\n",
    "    \n",
    "print(charge)"
   ]
  },
  {
   "cell_type": "code",
   "execution_count": 8,
   "id": "76aedb23-50cd-438d-a171-2b164ea5e1db",
   "metadata": {},
   "outputs": [],
   "source": [
    "# Q4. Create a list of numbers from 1 to 100. Use for loop and while loop to calculate the cube of each\n",
    "# number and if the cube of that number is divisible by 4 or 5 then append that number in a list and print\n",
    "# that list."
   ]
  },
  {
   "cell_type": "code",
   "execution_count": 9,
   "id": "d678b2f4-67c5-46aa-a21b-b846364e5c34",
   "metadata": {},
   "outputs": [
    {
     "name": "stdout",
     "output_type": "stream",
     "text": [
      "[8, 64, 125, 216, 512, 1000, 1728, 2744, 3375, 4096, 5832, 8000, 10648, 13824, 15625, 17576, 21952, 27000, 32768, 39304, 42875, 46656, 54872, 64000, 74088, 85184, 91125, 97336, 110592, 125000, 140608, 157464, 166375, 175616, 195112, 216000, 238328, 262144, 274625, 287496, 314432, 343000, 373248, 405224, 421875, 438976, 474552, 512000, 551368, 592704, 614125, 636056, 681472, 729000, 778688, 830584, 857375, 884736, 941192, 1000000]\n"
     ]
    }
   ],
   "source": [
    "# for loop\n",
    "\n",
    "lst = list(range(1,101))\n",
    "new_lst = []\n",
    "for num in lst:\n",
    "    cube = num**3\n",
    "    if cube % 4 == 0 or cube % 5 == 0:\n",
    "        new_lst.append(cube)\n",
    "        \n",
    "print(new_lst)"
   ]
  },
  {
   "cell_type": "code",
   "execution_count": 10,
   "id": "2dae4a5e-6efb-4b40-a6a8-2751481ad12b",
   "metadata": {},
   "outputs": [
    {
     "name": "stdout",
     "output_type": "stream",
     "text": [
      "[8, 64, 125, 216, 512, 1000, 1728, 2744, 3375, 4096, 5832, 8000, 10648, 13824, 15625, 17576, 21952, 27000, 32768, 39304, 42875, 46656, 54872, 64000, 74088, 85184, 91125, 97336, 110592, 125000, 140608, 157464, 166375, 175616, 195112, 216000, 238328, 262144, 274625, 287496, 314432, 343000, 373248, 405224, 421875, 438976, 474552, 512000, 551368, 592704, 614125, 636056, 681472, 729000, 778688, 830584, 857375, 884736, 941192, 1000000]\n"
     ]
    }
   ],
   "source": [
    "# While loop\n",
    "\n",
    "lst = list(range(1,101))\n",
    "new_lst = []\n",
    "i = 0\n",
    "while i < 100:\n",
    "    cube = lst[i]**3\n",
    "    if cube % 4 == 0 or cube % 5 == 0:\n",
    "        new_lst.append(cube)\n",
    "    i += 1\n",
    "\n",
    "        \n",
    "print(new_lst)"
   ]
  },
  {
   "cell_type": "code",
   "execution_count": 11,
   "id": "2b19bf43-59d6-4211-b3ad-0c972596bc9b",
   "metadata": {},
   "outputs": [
    {
     "name": "stdout",
     "output_type": "stream",
     "text": [
      "11\n"
     ]
    }
   ],
   "source": [
    "# Q5. Write a program to filter count vowels in the below-given string.\n",
    "# string = \"I want to become a data scientist\"\n",
    "\n",
    "string = \"I want to become a data scientist\"\n",
    "count = 0\n",
    "for char in string:\n",
    "    if char in [\"a\",\"e\",\"i\",\"o\",\"u\"]:\n",
    "        count += 1\n",
    "print(count)"
   ]
  },
  {
   "cell_type": "code",
   "execution_count": null,
   "id": "40cc32e9-af60-48dd-adde-cdbb9fe5e590",
   "metadata": {},
   "outputs": [],
   "source": []
  }
 ],
 "metadata": {
  "kernelspec": {
   "display_name": "Python 3 (ipykernel)",
   "language": "python",
   "name": "python3"
  },
  "language_info": {
   "codemirror_mode": {
    "name": "ipython",
    "version": 3
   },
   "file_extension": ".py",
   "mimetype": "text/x-python",
   "name": "python",
   "nbconvert_exporter": "python",
   "pygments_lexer": "ipython3",
   "version": "3.10.8"
  }
 },
 "nbformat": 4,
 "nbformat_minor": 5
}
