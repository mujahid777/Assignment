{
 "cells": [
  {
   "cell_type": "code",
   "execution_count": 1,
   "id": "86e823e0-41bb-4efe-b756-7aba93c895e2",
   "metadata": {},
   "outputs": [
    {
     "name": "stdin",
     "output_type": "stream",
     "text": [
      "Enter the percentage : 77\n"
     ]
    },
    {
     "name": "stdout",
     "output_type": "stream",
     "text": [
      "Grade C\n"
     ]
    }
   ],
   "source": [
    "# 1.Write a program to accept percentage from the user and display the grade..\n",
    "\n",
    "percent = int(input(\"Enter the percentage :\"))\n",
    "\n",
    "if percent > 90 and percent <= 100:\n",
    "    print(\"Grade A\")\n",
    "    \n",
    "elif percent > 80 and percent <= 90:\n",
    "    print(\"Grade B\")\n",
    "    \n",
    "elif percent >= 60 and percent <= 80:\n",
    "    print(\"Grade C\")\n",
    "    \n",
    "else:\n",
    "    print(\"Grade D\")"
   ]
  },
  {
   "cell_type": "code",
   "execution_count": 2,
   "id": "7fc233a6-9ee2-4309-b8ed-e013891a7969",
   "metadata": {},
   "outputs": [
    {
     "name": "stdin",
     "output_type": "stream",
     "text": [
      "Enter Bike price: 56000\n"
     ]
    },
    {
     "name": "stdout",
     "output_type": "stream",
     "text": [
      "Your road tax is 5600.0 \n"
     ]
    }
   ],
   "source": [
    "#2. write a program to accept the cost price of bike and display the road tax to be paid..\n",
    "\n",
    "\n",
    "bike_price = int(input(\"Enter Bike price:\"))\n",
    "\n",
    "if bike_price > 100000:\n",
    "    tax = (15 / 100) * bike_price\n",
    "    \n",
    "elif bike_price > 50000:\n",
    "    tax = (10 / 100) * bike_price\n",
    "    \n",
    "else:\n",
    "    tax = (5 / 100) * bike_price\n",
    "    \n",
    "print(f\"Your road tax is {tax} \")"
   ]
  },
  {
   "cell_type": "code",
   "execution_count": 3,
   "id": "0d6b3472-14ba-4158-a865-687089e92a40",
   "metadata": {},
   "outputs": [
    {
     "name": "stdin",
     "output_type": "stream",
     "text": [
      "Enter your city name: delhi\n"
     ]
    },
    {
     "name": "stdout",
     "output_type": "stream",
     "text": [
      "Red Fort\n"
     ]
    }
   ],
   "source": [
    "# 3. Accept any city from the user and display monuments of that city.\n",
    "\n",
    "city = input(\"Enter your city name:\").capitalize()\n",
    "\n",
    "if city == \"Delhi\":\n",
    "    print(\"Red Fort\")\n",
    "    \n",
    "elif city == \"Agra\":\n",
    "    print(\"Taj Mahal\")\n",
    "    \n",
    "elif city == \"Jaipur\":\n",
    "    print(\"Jal Mahal\")\n",
    "    \n",
    "else:\n",
    "    print(\"Sorry, your city is not in our list\")"
   ]
  },
  {
   "cell_type": "code",
   "execution_count": 4,
   "id": "88241eed-25db-4b9a-b090-6019994d3382",
   "metadata": {},
   "outputs": [
    {
     "name": "stdin",
     "output_type": "stream",
     "text": [
      "Enter a number: 18\n"
     ]
    },
    {
     "name": "stdout",
     "output_type": "stream",
     "text": [
      "The count is: 1\n"
     ]
    }
   ],
   "source": [
    "#4. check how many times a given number can be divided by 3 before it is less than or equal to 10.\n",
    "\n",
    "number = int(input(\"Enter a number:\"))\n",
    "count=0\n",
    "\n",
    "while number > 10 :\n",
    "    number //= 3\n",
    "    count = count+1\n",
    "    \n",
    "print(\"The count is:\",count)    \n",
    "    "
   ]
  },
  {
   "cell_type": "code",
   "execution_count": 5,
   "id": "686bb598-8d4a-4a8a-95c6-f09a59e2452e",
   "metadata": {},
   "outputs": [
    {
     "name": "stdout",
     "output_type": "stream",
     "text": [
      "0 1 2 3 4 "
     ]
    }
   ],
   "source": [
    "#5. why and when to use while loop in python give a detailed description with example.\n",
    "\n",
    "#Ans:- You should use a while loop when you need to repeatedly execute a block of code as long as a certain condition is true. A while loop is useful when you do not know beforehand how many times you need to iterate, or when the number of iterations depends on some changing conditions.\n",
    "\n",
    "count = 0\n",
    "while count < 5:\n",
    "    print(count,end = \" \")\n",
    "    count += 1"
   ]
  },
  {
   "cell_type": "code",
   "execution_count": 6,
   "id": "b1d13af1-a66a-4a18-9408-09f561694b97",
   "metadata": {},
   "outputs": [],
   "source": [
    "#6. Use nested while loop to print 3 different pattern."
   ]
  },
  {
   "cell_type": "code",
   "execution_count": 7,
   "id": "518e6a37-934a-4fe2-9418-ca57d25070ff",
   "metadata": {},
   "outputs": [
    {
     "name": "stdin",
     "output_type": "stream",
     "text": [
      "Enter numbers of rows: 7\n"
     ]
    },
    {
     "name": "stdout",
     "output_type": "stream",
     "text": [
      "* \n",
      "* * \n",
      "* * * \n",
      "* * * * \n",
      "* * * * * \n",
      "* * * * * * \n",
      "* * * * * * * \n"
     ]
    }
   ],
   "source": [
    "# Pattern1\n",
    "\n",
    "n = int(input(\"Enter numbers of rows:\"))\n",
    "i=1\n",
    "while i<=n:\n",
    "    j=1\n",
    "    while j<=i:\n",
    "        print(\"*\",end=\" \")\n",
    "        j=j+1\n",
    "    print()\n",
    "    i=i+1"
   ]
  },
  {
   "cell_type": "code",
   "execution_count": 8,
   "id": "fd196350-ef38-4d05-b120-daffaa876497",
   "metadata": {},
   "outputs": [
    {
     "name": "stdin",
     "output_type": "stream",
     "text": [
      "Enter numbers of rows: 9\n"
     ]
    },
    {
     "name": "stdout",
     "output_type": "stream",
     "text": [
      "* * * * * * * * * \n",
      "* * * * * * * * \n",
      "* * * * * * * \n",
      "* * * * * * \n",
      "* * * * * \n",
      "* * * * \n",
      "* * * \n",
      "* * \n",
      "* \n"
     ]
    }
   ],
   "source": [
    "# pattern-2\n",
    "\n",
    "n = int(input(\"Enter numbers of rows:\"))\n",
    "i=1\n",
    "while i<=n:\n",
    "    j=n\n",
    "    while j>=i:\n",
    "        print(\"*\",end=\" \")\n",
    "        j=j-1\n",
    "    print()\n",
    "    i=i+1"
   ]
  },
  {
   "cell_type": "code",
   "execution_count": 9,
   "id": "172f277a-9c36-4b7a-b8e7-6c76181114cd",
   "metadata": {},
   "outputs": [
    {
     "name": "stdin",
     "output_type": "stream",
     "text": [
      "Enter numbers of rows: 4\n"
     ]
    },
    {
     "name": "stdout",
     "output_type": "stream",
     "text": [
      "1 \n",
      "2 3 \n",
      "4 5 6 \n",
      "7 8 9 10 \n"
     ]
    }
   ],
   "source": [
    "# pattern-3\n",
    "\n",
    "n = int(input(\"Enter numbers of rows:\"))\n",
    "i=1\n",
    "k=1\n",
    "while i<=n:\n",
    "    j=1\n",
    "    while j<=i:\n",
    "        print(k,end=\" \")\n",
    "        j=j+1\n",
    "        k=k+1\n",
    "    print()\n",
    "    i=i+1"
   ]
  },
  {
   "cell_type": "code",
   "execution_count": 10,
   "id": "74d55270-6c0a-44b4-9007-f546265c36bb",
   "metadata": {},
   "outputs": [
    {
     "name": "stdout",
     "output_type": "stream",
     "text": [
      "10 9 8 7 6 5 4 3 2 1 "
     ]
    }
   ],
   "source": [
    "#7.Reverse a while loop to display a number from 10 to 1.\n",
    "\n",
    "n = 10\n",
    "while( n > 0):\n",
    "    print(n, end=\" \")\n",
    "    n = n-1"
   ]
  },
  {
   "cell_type": "code",
   "execution_count": null,
   "id": "fd2f883f-51fa-4f10-98a0-787f056bc81d",
   "metadata": {},
   "outputs": [],
   "source": []
  }
 ],
 "metadata": {
  "kernelspec": {
   "display_name": "Python 3 (ipykernel)",
   "language": "python",
   "name": "python3"
  },
  "language_info": {
   "codemirror_mode": {
    "name": "ipython",
    "version": 3
   },
   "file_extension": ".py",
   "mimetype": "text/x-python",
   "name": "python",
   "nbconvert_exporter": "python",
   "pygments_lexer": "ipython3",
   "version": "3.10.8"
  }
 },
 "nbformat": 4,
 "nbformat_minor": 5
}
