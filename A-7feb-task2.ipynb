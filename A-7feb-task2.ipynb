{
 "cells": [
  {
   "cell_type": "code",
   "execution_count": 3,
   "id": "383adb12-23ad-4388-8de9-d94e7ef47b28",
   "metadata": {},
   "outputs": [
    {
     "name": "stdin",
     "output_type": "stream",
     "text": [
      "Enter your password:  nxAZ1#@$hq\n"
     ]
    },
    {
     "name": "stdout",
     "output_type": "stream",
     "text": [
      "Valid Password\n"
     ]
    }
   ],
   "source": [
    "#  Q1. You are writing code for a company. The requirement of the company is that you create a python\n",
    "#      function that will check whether the password entered by the user is correct or not. The function should\n",
    "#      take the password as input and return the string “Valid Password” if the entered password follows the\n",
    "#      below-given password guidelines else it should return “Invalid Password”.\n",
    "\n",
    "#  Note: 1. The Password should contain at least two uppercase letters and at least two lowercase letters.\n",
    "\n",
    "#  2. The Password should contain at least a number and three special characters.\n",
    "#  3. The length of the password should be 10 characters long.\n",
    "\n",
    "\n",
    "def validate_Password(password):\n",
    "    \n",
    "    \"\"\"This function helps to check the validity of the password entered\"\"\"\n",
    "    \n",
    "    #Check if the password meets length requirement\n",
    "    if len(password) != 10:\n",
    "        return \"Invalid Password\"\n",
    "    \n",
    "    \n",
    "    upper_count, lower_count, number_count, special_count = 0, 0, 0, 0\n",
    "    \n",
    "    #Find the count of lowercase, uppercase, numbers and special characters\n",
    "    for char in password:\n",
    "        if char.isupper():\n",
    "            upper_count += 1\n",
    "        \n",
    "        elif char.islower():\n",
    "            lower_count += 1\n",
    "            \n",
    "        elif char.isdigit():\n",
    "            number_count += 1\n",
    "            \n",
    "        else:\n",
    "            special_count += 1\n",
    "            \n",
    "    #Check if the password meets the desired criteria       \n",
    "    if upper_count >= 2 and lower_count >=2 and number_count >=1 and special_count >=3:\n",
    "        return \"Valid Password\"\n",
    "    \n",
    "    else:\n",
    "        return \"Invalid Password\"\n",
    "    \n",
    "# Driver code\n",
    "password = input(\"Enter your password: \")\n",
    "validity = validate_Password(password)\n",
    "print(validity)"
   ]
  },
  {
   "cell_type": "code",
   "execution_count": 4,
   "id": "d48de103-ad3d-47d4-b2b2-0775f201daa5",
   "metadata": {},
   "outputs": [
    {
     "name": "stdin",
     "output_type": "stream",
     "text": [
      "Enter your password:  dghfgrfhdfnfgujrt\n"
     ]
    },
    {
     "name": "stdout",
     "output_type": "stream",
     "text": [
      "Invalid Password\n"
     ]
    }
   ],
   "source": [
    "password = input(\"Enter your password: \")\n",
    "validity = validate_Password(password)\n",
    "print(validity)"
   ]
  },
  {
   "cell_type": "code",
   "execution_count": 5,
   "id": "37f28a9c-95f8-421f-a33b-4894111cbdf7",
   "metadata": {},
   "outputs": [],
   "source": [
    "#  Q2. Solve the below-given questions using at least one of the following:\n",
    "\n",
    "#  1. Lambda functioJ\n",
    "#  2. Filter functioJ\n",
    "#  3. Zap functioJ\n",
    "#  4. List Comprehension\n",
    "\n",
    "# - Check if the string starts with a particular letterY\n",
    "# - Check if the string is numericY\n",
    "# - Sort a list of tuples having fruit names and their quantity. [(\"mango\",99),(\"orange\",80), (\"grapes\", 1000)-\n",
    "# - Find the squares of numbers from 1 to 10Y\n",
    "# - Find the cube root of numbers from 1 to 10Y\n",
    "# - Check if a given number is evenY\n",
    "# - Filter odd numbers from the given list.\n",
    "#   [1,2,3,4,5,6,7,8,9,10]\n",
    "# - Sort a list of integers into positive and negative integers lists.\n",
    "#   [1,2,3,4,5,6,-1,-2,-3,-4,-5,0]"
   ]
  },
  {
   "cell_type": "code",
   "execution_count": 7,
   "id": "23d8bc4c-54b6-499c-9b2f-349f68f4c774",
   "metadata": {},
   "outputs": [
    {
     "name": "stdin",
     "output_type": "stream",
     "text": [
      "Enter string:  my skill\n",
      "Enter letter:  m\n"
     ]
    },
    {
     "name": "stdout",
     "output_type": "stream",
     "text": [
      "'my skill' starts with 'm'!\n"
     ]
    }
   ],
   "source": [
    "###  Check if the string starts with a particular letter\n",
    "\n",
    "#Solution uses LAMBDA function\n",
    "\n",
    "check_start = lambda string, letter: string.startswith(letter)\n",
    "\n",
    "#Driver Code\n",
    "string = input(\"Enter string: \")\n",
    "letter = input(\"Enter letter: \")\n",
    "if check_start(string, letter):\n",
    "    print(f\"'{string}' starts with '{letter}'!\")\n",
    "else:\n",
    "    print(f\"'{string}' does not starts with '{letter}'!\")"
   ]
  },
  {
   "cell_type": "code",
   "execution_count": 8,
   "id": "870e131c-f0f3-435a-9311-2ee1f330c7e2",
   "metadata": {},
   "outputs": [
    {
     "name": "stdin",
     "output_type": "stream",
     "text": [
      "Enter string:  my skill\n",
      "Enter letter:  f\n"
     ]
    },
    {
     "name": "stdout",
     "output_type": "stream",
     "text": [
      "'my skill' does not starts with 'f'!\n"
     ]
    }
   ],
   "source": [
    "#Driver Code\n",
    "string = input(\"Enter string: \")\n",
    "letter = input(\"Enter letter: \")\n",
    "if check_start(string, letter):\n",
    "    print(f\"'{string}' starts with '{letter}'!\")\n",
    "else:\n",
    "    print(f\"'{string}' does not starts with '{letter}'!\")"
   ]
  },
  {
   "cell_type": "code",
   "execution_count": 9,
   "id": "f4bf5ff7-ecb3-40b7-a9b2-71857dd766cc",
   "metadata": {},
   "outputs": [
    {
     "name": "stdin",
     "output_type": "stream",
     "text": [
      "Enter string:  34646\n"
     ]
    },
    {
     "name": "stdout",
     "output_type": "stream",
     "text": [
      "34646 is numeric!\n"
     ]
    }
   ],
   "source": [
    "###  Check if the string is numeric\n",
    "\n",
    "#Solution uses LAMBDA function \n",
    "\n",
    "is_numeric = lambda string : string.isnumeric()\n",
    "\n",
    "#Driver Code\n",
    "string = input(\"Enter string: \")\n",
    "if is_numeric(string):\n",
    "    print(f\"{string} is numeric!\")\n",
    "else:\n",
    "    print(f\"{string} is not numeric!\")"
   ]
  },
  {
   "cell_type": "code",
   "execution_count": 10,
   "id": "e15d4417-bc50-4f77-9f34-cdf200dfbc0a",
   "metadata": {},
   "outputs": [
    {
     "name": "stdin",
     "output_type": "stream",
     "text": [
      "Enter string:  rase354sdf\n"
     ]
    },
    {
     "name": "stdout",
     "output_type": "stream",
     "text": [
      "rase354sdf is not numeric!\n"
     ]
    }
   ],
   "source": [
    "#Driver Code\n",
    "string = input(\"Enter string: \")\n",
    "if is_numeric(string):\n",
    "    print(f\"{string} is numeric!\")\n",
    "else:\n",
    "    print(f\"{string} is not numeric!\")"
   ]
  },
  {
   "cell_type": "code",
   "execution_count": 11,
   "id": "cbfcce60-d4e4-4bc0-809d-bf0bb557637c",
   "metadata": {},
   "outputs": [
    {
     "name": "stdout",
     "output_type": "stream",
     "text": [
      "Fruits increasingly sorted according to quantity: [('orange', 80), ('mango', 99), ('grapes', 1000)]\n"
     ]
    }
   ],
   "source": [
    "##  Sort a list of tuples having fruit names and their quantity.\n",
    "#   [(\"mango\",99),(\"orange\",80), (\"grapes\", 1000)]\n",
    "\n",
    "# Solution uses LAMBDA function \n",
    "\n",
    "fruits = [(\"mango\",99),(\"orange\",80), (\"grapes\", 1000)]\n",
    "fruits.sort(key = lambda ele : ele[1])\n",
    "print(f\"Fruits increasingly sorted according to quantity: {fruits}\")"
   ]
  },
  {
   "cell_type": "code",
   "execution_count": 12,
   "id": "65d5b17d-a927-4f07-a626-ff7b71a604ab",
   "metadata": {},
   "outputs": [
    {
     "name": "stdout",
     "output_type": "stream",
     "text": [
      "The squares of number from 1-10: [1, 4, 9, 16, 25, 36, 49, 64, 81, 100]\n"
     ]
    }
   ],
   "source": [
    "##  Find the squares of numbers from 1 to 10\n",
    "\n",
    "# Method1: Solution uses LIST COMPREHENSION\n",
    "\n",
    "num_square = [num**2 for num in range(1,11)]\n",
    "print(f\"The squares of number from 1-10: {num_square}\")"
   ]
  },
  {
   "cell_type": "code",
   "execution_count": 13,
   "id": "56e3d545-eca1-4307-adcc-2f455909e8f3",
   "metadata": {},
   "outputs": [
    {
     "name": "stdout",
     "output_type": "stream",
     "text": [
      "The squares of number from 1-10: [1, 4, 9, 16, 25, 36, 49, 64, 81, 100]\n"
     ]
    }
   ],
   "source": [
    "# Method2: Solution uses MAP and LAMBDA\n",
    "\n",
    "num_square = list(map(lambda num : num ** 2, range(1,11)))\n",
    "print(f\"The squares of number from 1-10: {num_square}\")"
   ]
  },
  {
   "cell_type": "code",
   "execution_count": 14,
   "id": "35d4c3a7-1df6-43f7-8898-23087f4b9cf7",
   "metadata": {},
   "outputs": [
    {
     "name": "stdout",
     "output_type": "stream",
     "text": [
      "The cube root from 1-10: [1.0, 1.26, 1.44, 1.59, 1.71, 1.82, 1.91, 2.0, 2.08, 2.15]\n"
     ]
    }
   ],
   "source": [
    "##  Find the cube root of numbers from 1 to 10\n",
    "\n",
    "# Method1: Solution uses LIST COMPREHENSION\n",
    "\n",
    "cube_root = [round(num**(1/3),2) for num in range(1,11)]\n",
    "print(f\"The cube root from 1-10: {cube_root}\")"
   ]
  },
  {
   "cell_type": "code",
   "execution_count": 15,
   "id": "a0565671-6574-4eb9-ba70-425cc9815838",
   "metadata": {},
   "outputs": [
    {
     "name": "stdout",
     "output_type": "stream",
     "text": [
      "The cube root from 1-10: [1.0, 1.26, 1.44, 1.59, 1.71, 1.82, 1.91, 2.0, 2.08, 2.15]\n"
     ]
    }
   ],
   "source": [
    "# Method2: Solution uses MAP and LAMBDA\n",
    "\n",
    "cube_root = list(map(lambda num : round(num ** (1/3), 2), range(1,11)))\n",
    "print(f\"The cube root from 1-10: {cube_root}\")"
   ]
  },
  {
   "cell_type": "code",
   "execution_count": 16,
   "id": "d7c25be7-bf5f-46aa-bd5f-cb24fac0645f",
   "metadata": {},
   "outputs": [
    {
     "name": "stdin",
     "output_type": "stream",
     "text": [
      "Enter a number:  8\n"
     ]
    },
    {
     "name": "stdout",
     "output_type": "stream",
     "text": [
      "8 is a EVEN number\n"
     ]
    }
   ],
   "source": [
    "### Check if a given number is even\n",
    "\n",
    "#Solution uses LAMBDA function\n",
    "\n",
    "check_even = lambda num : num % 2 == 0\n",
    "\n",
    "# Driver code\n",
    "num = int(input(\"Enter a number: \"))\n",
    "if check_even(num):\n",
    "    print(f\"{num} is a EVEN number\")\n",
    "else:\n",
    "    print(f\"{num} is a NOT a even number\")"
   ]
  },
  {
   "cell_type": "code",
   "execution_count": 17,
   "id": "0c9e8ae3-07fd-4a54-af97-1bf73f87b6cd",
   "metadata": {},
   "outputs": [
    {
     "name": "stdin",
     "output_type": "stream",
     "text": [
      "Enter a number:  7\n"
     ]
    },
    {
     "name": "stdout",
     "output_type": "stream",
     "text": [
      "7 is a NOT a even number\n"
     ]
    }
   ],
   "source": [
    "# Driver code\n",
    "num = int(input(\"Enter a number: \"))\n",
    "if check_even(num):\n",
    "    print(f\"{num} is a EVEN number\")\n",
    "else:\n",
    "    print(f\"{num} is a NOT a even number\")"
   ]
  },
  {
   "cell_type": "code",
   "execution_count": 18,
   "id": "95390176-baf3-4e32-96c9-fa94182ce217",
   "metadata": {},
   "outputs": [
    {
     "name": "stdout",
     "output_type": "stream",
     "text": [
      "Odd numbers: [1, 3, 5, 7, 9]\n"
     ]
    }
   ],
   "source": [
    "### Filter odd numbers from the given list. [1,2,3,4,5,6,7,8,9,10].\n",
    "\n",
    "\n",
    "# Method1: Solution uses FILTER and LAMBDA\n",
    "\n",
    "lst = [1,2,3,4,5,6,7,8,9,10]\n",
    "odd_numbers = list(filter(lambda x : x&1, lst ))\n",
    "print(f\"Odd numbers: {odd_numbers}\")"
   ]
  },
  {
   "cell_type": "code",
   "execution_count": 19,
   "id": "87a100b5-0953-4e30-8a44-81a029b9b83f",
   "metadata": {},
   "outputs": [
    {
     "name": "stdout",
     "output_type": "stream",
     "text": [
      "Odd numbers: [1, 3, 5, 7, 9]\n"
     ]
    }
   ],
   "source": [
    "# Method2: Solution uses LIST COMPREHENSION\n",
    "\n",
    "lst = [1,2,3,4,5,6,7,8,9,10]\n",
    "odd_numbers = [num for num in lst if num & 1]\n",
    "print(f\"Odd numbers: {odd_numbers}\")"
   ]
  },
  {
   "cell_type": "code",
   "execution_count": 20,
   "id": "3a903bad-ae0b-444e-ab83-4b130e62fb17",
   "metadata": {},
   "outputs": [
    {
     "name": "stdout",
     "output_type": "stream",
     "text": [
      "Positive list: [1, 2, 3, 4, 5, 6]\n",
      "Negative list: [-1, -2, -3, -4, -5]\n"
     ]
    }
   ],
   "source": [
    "##   Sort a list of integers into positive and negative integers lists.\n",
    "#    [1,2,3,4,5,6,-1,-2,-3,-4,-5,0]\n",
    "\n",
    "\n",
    "#Solution uses LIST COMPREHENSION\n",
    "\n",
    "def sort_list(lst):\n",
    "    \"\"\" Created postive and negative list from given list\"\"\"\n",
    "    \n",
    "    p_list = [num for num in lst if num > 0]\n",
    "    n_list = [num for num in lst if num < 0]\n",
    "    \n",
    "    return p_list, n_list\n",
    "\n",
    "# Driver code\n",
    "lst = [1,2,3,4,5,6,-1,-2,-3,-4,-5,0]\n",
    "p_list, n_list = sort_list(lst)\n",
    "print(f\"Positive list: {p_list}\")\n",
    "print(f\"Negative list: {n_list}\")"
   ]
  },
  {
   "cell_type": "code",
   "execution_count": null,
   "id": "810c9778-3da7-49c4-a36e-7166f189caa0",
   "metadata": {},
   "outputs": [],
   "source": []
  }
 ],
 "metadata": {
  "kernelspec": {
   "display_name": "Python 3 (ipykernel)",
   "language": "python",
   "name": "python3"
  },
  "language_info": {
   "codemirror_mode": {
    "name": "ipython",
    "version": 3
   },
   "file_extension": ".py",
   "mimetype": "text/x-python",
   "name": "python",
   "nbconvert_exporter": "python",
   "pygments_lexer": "ipython3",
   "version": "3.10.8"
  }
 },
 "nbformat": 4,
 "nbformat_minor": 5
}
