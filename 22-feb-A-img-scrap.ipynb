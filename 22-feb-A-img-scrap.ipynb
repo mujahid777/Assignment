{
 "cells": [
  {
   "cell_type": "markdown",
   "id": "87340764-ce44-41d8-aafe-c0c8116ae29a",
   "metadata": {},
   "source": [
    "##  Go to this given URL and solve the following questions.\n",
    "\n",
    "      \n",
    "    URL: https://www.youtube.com/@PW-Foundation/videos"
   ]
  },
  {
   "cell_type": "code",
   "execution_count": 1,
   "id": "25cd10cb-b4fc-4430-939a-ef45dc82a062",
   "metadata": {},
   "outputs": [
    {
     "name": "stdout",
     "output_type": "stream",
     "text": [
      "<Response [200]>\n"
     ]
    }
   ],
   "source": [
    "import requests\n",
    "from bs4 import BeautifulSoup\n",
    "from pandas import DataFrame\n",
    "from json import loads\n",
    "\n",
    "\n",
    "url = 'https://www.youtube.com/@PW-Foundation/videos'\n",
    "\n",
    "# Get the html by get method\n",
    "r = requests.get(url)\n",
    "print(r)\n",
    "\n",
    "# Create BeautifulSoup object\n",
    "soup = BeautifulSoup(r.text, 'html.parser')\n",
    "all_script_tags = soup.findAll('script')"
   ]
  },
  {
   "cell_type": "markdown",
   "id": "4414f284-b3e9-429a-9a04-a524d63fa45c",
   "metadata": {},
   "source": [
    "So far, this code imports necessary modules for web scraping, sends an HTTP GET request to a YouTube channel URL, creates a BeautifulSoup object from the HTML code of the web page, and finds all the script tags in the web page.\n",
    "\n",
    "The resulting list all_script_tags contains all the script tags in the web page, which can be used to extract the ytInitialData JSON object that contains data for the videos on the channel. We can use the script_tag_to_json() function and the get_contents_dict() function defined earlier to extract this data.\n",
    "\n",
    "Next, we can process the data to extract specific information about each video, such as the title, views, likes, and comments. We can then use this data to create a Pandas DataFrame, which can be used for further analysis and visualization."
   ]
  },
  {
   "cell_type": "code",
   "execution_count": 2,
   "id": "254ec857-29f9-4942-b954-f43e0d559e62",
   "metadata": {},
   "outputs": [],
   "source": [
    "def script_tag_to_json(tags: list) -> dict:\n",
    "    for tag in reversed(tags):\n",
    "        text: str = tag.text\n",
    "        if 'ytInitialData = {\"responseContext\"' in text:\n",
    "            return loads(text[20:-1])\n",
    "\n",
    "    raise ValueError('Required script tag not found in the given tags.')"
   ]
  },
  {
   "cell_type": "markdown",
   "id": "671c2639-00ff-4160-b633-cf2fbaf962d5",
   "metadata": {},
   "source": [
    "This code defines a function script_tag_to_json() that converts a script tag to a JSON object.\n",
    "\n",
    "The function takes a list of script tags as input and searches for the tag that contains the JSON data that we are interested in. It does this by iterating over the list of tags in reverse order (starting from the end of the list), and searching for the ytInitialData JSON object in the text attribute of each tag.\n",
    "\n",
    "If the required ytInitialData JSON object is found, the function extracts the JSON string from the text attribute of the tag (excluding the first 20 and last 1 characters, which contain some unwanted characters), and uses the loads() method from the json module to convert the string to a Python dictionary.\n",
    "\n",
    "If the required ytInitialData JSON object is not found in any of the tags, the function raises a ValueError.\n",
    "\n",
    "The resulting dictionary contains the data that we are interested in, which can be used for further analysis or manipulation."
   ]
  },
  {
   "cell_type": "code",
   "execution_count": 4,
   "id": "123e1dae-df2f-4c78-8ad1-aba1e74cc5fb",
   "metadata": {},
   "outputs": [],
   "source": [
    "data = script_tag_to_json(all_script_tags)\n",
    "\n",
    "#Return data from videos\n",
    "def get_contents_dict(data):\n",
    "    return data['contents']['twoColumnBrowseResultsRenderer']['tabs'][1]['tabRenderer']['content']['richGridRenderer']['contents']"
   ]
  },
  {
   "cell_type": "markdown",
   "id": "622eb8e6-b7e5-454d-adca-ea63bddb390b",
   "metadata": {},
   "source": [
    "This code defines a function get_contents_dict() that extracts the contents dictionary from the ytInitialData JSON object.\n",
    "\n",
    "The function takes the ytInitialData dictionary as input and returns the contents dictionary that contains the data for the videos on the channel.\n",
    "\n",
    "The contents dictionary can be found by navigating through the various keys in the ytInitialData dictionary. In this case, we can find it by following this path:"
   ]
  },
  {
   "cell_type": "raw",
   "id": "d979b34b-41a4-40bf-86bf-0f4a2b8ccf54",
   "metadata": {},
   "source": [
    "'contents'\n",
    "    'twoColumnBrowseResultsRenderer'\n",
    "        'tabs'\n",
    "            [1]\n",
    "                'tabRenderer'\n",
    "                    'content'\n",
    "                        'richGridRenderer'\n",
    "                            'contents'"
   ]
  },
  {
   "cell_type": "markdown",
   "id": "bbcc24cd-b423-485f-a2b6-96410264801a",
   "metadata": {},
   "source": [
    "The resulting contents dictionary contains a list of dictionaries, where each dictionary represents a video on the channel. This data can be further processed and analyzed to extract specific information about each video, such as the title, views, likes, and comments."
   ]
  },
  {
   "cell_type": "markdown",
   "id": "f59a9cdc-5497-465e-b0ce-a8ba188f6096",
   "metadata": {},
   "source": [
    "##  Q1. Write a python program to extract the video URL of the first five videos.\n",
    "\n",
    "### Get Video ID"
   ]
  },
  {
   "cell_type": "code",
   "execution_count": 7,
   "id": "aac0df41-8883-4e0d-8575-d9c5f0950761",
   "metadata": {},
   "outputs": [
    {
     "data": {
      "text/plain": [
       "['https://www.youtube.com/watch?v=dArUpCasmnE',\n",
       " 'https://www.youtube.com/watch?v=HqG2QchBw8Y',\n",
       " 'https://www.youtube.com/watch?v=1izKrQHyx9M',\n",
       " 'https://www.youtube.com/watch?v=jXAb1evxaJc',\n",
       " 'https://www.youtube.com/watch?v=2dn7XMxRtPE']"
      ]
     },
     "execution_count": 7,
     "metadata": {},
     "output_type": "execute_result"
    }
   ],
   "source": [
    "def get_videoUrl(data:dict, n: int = 5):\n",
    "    contents = get_contents_dict(data)\n",
    "\n",
    "    if n > 30:\n",
    "        raise ValueError('Max Limit is 30.')\n",
    "\n",
    "    result = []\n",
    "    for i in range(n):\n",
    "        result.append('https://www.youtube.com/watch?v=' +\n",
    "                      contents[i]['richItemRenderer']['content']['videoRenderer']['videoId'])\n",
    "\n",
    "    return result\n",
    "\n",
    "get_videoUrl(data)"
   ]
  },
  {
   "cell_type": "markdown",
   "id": "ade9a6f2-6c14-4f9b-9eb5-4ae42c298baf",
   "metadata": {},
   "source": [
    "This code defines a function get_videoUrl() that extracts the URLs of the first n videos on the channel.\n",
    "\n",
    "The function takes the ytInitialData dictionary as input and an optional parameter n that specifies the number of videos to retrieve (default value is 5). The function first extracts the contents dictionary using the get_contents_dict() function, and then iterates over the first n items in the contents list.\n",
    "\n",
    "For each item, the function extracts the videoId from the videoRenderer dictionary and concatenates it with the YouTube video URL to create the full URL for the video. The resulting list result contains the URLs of the first n videos on the channel.\n",
    "\n",
    "Note that the function raises a ValueError if the value of n is greater than 30, which is the maximum number of videos that can be retrieved from the YouTube API in a single request. This limit is enforced to prevent excessive usage of the API, which could result in rate limiting or other errors."
   ]
  },
  {
   "cell_type": "markdown",
   "id": "337d4063-4b76-47ef-9454-c31705590dce",
   "metadata": {},
   "source": [
    "##  Q2. Write a python program to extract the URL of the video thumbnails of the first five videos.\n",
    " \n",
    "### Get video thumbnails"
   ]
  },
  {
   "cell_type": "code",
   "execution_count": 8,
   "id": "43833a48-84f6-48ff-8b5a-37178a3d41a4",
   "metadata": {},
   "outputs": [
    {
     "data": {
      "text/plain": [
       "['https://i.ytimg.com/vi/dArUpCasmnE/hqdefault.jpg?sqp=-oaymwEjCNACELwBSFryq4qpAxUIARUAAAAAGAElAADIQj0AgKJDeAE=&rs=AOn4CLBZooZVux6hi4Pe2o44xgW0ZidzdA',\n",
       " 'https://i.ytimg.com/vi/HqG2QchBw8Y/hqdefault.jpg?sqp=-oaymwEjCNACELwBSFryq4qpAxUIARUAAAAAGAElAADIQj0AgKJDeAE=&rs=AOn4CLCCZpClghOPGpOOQ8S40M4xsoAeAA',\n",
       " 'https://i.ytimg.com/vi/1izKrQHyx9M/hqdefault.jpg?sqp=-oaymwEjCNACELwBSFryq4qpAxUIARUAAAAAGAElAADIQj0AgKJDeAE=&rs=AOn4CLBGtmz4N3ui0L2WZs2S7qHvnIwQmQ',\n",
       " 'https://i.ytimg.com/vi/jXAb1evxaJc/hqdefault.jpg?sqp=-oaymwEjCNACELwBSFryq4qpAxUIARUAAAAAGAElAADIQj0AgKJDeAE=&rs=AOn4CLDmeiri9cimEVHPiAh5ootidgIzIg',\n",
       " 'https://i.ytimg.com/vi/2dn7XMxRtPE/hqdefault.jpg?sqp=-oaymwEjCNACELwBSFryq4qpAxUIARUAAAAAGAElAADIQj0AgKJDeAE=&rs=AOn4CLCNuCKbYYT7Bqo7b2xVfh27z3YKMw']"
      ]
     },
     "execution_count": 8,
     "metadata": {},
     "output_type": "execute_result"
    }
   ],
   "source": [
    "def get_thumbnails(data: dict, n: int = 5):\n",
    "    contents = get_contents_dict(data)\n",
    "\n",
    "    if n > 30:\n",
    "        raise ValueError('Max Limit is 30.')\n",
    "\n",
    "    result = []\n",
    "    for i in range(n):\n",
    "        result.append(contents[i]['richItemRenderer']['content']['videoRenderer']['thumbnail']['thumbnails'][-1]['url'])\n",
    "\n",
    "    return result\n",
    "\n",
    "get_thumbnails(data)"
   ]
  },
  {
   "cell_type": "markdown",
   "id": "9cddfcc2-0023-4baa-a86d-c807376941e9",
   "metadata": {},
   "source": [
    "This code defines a function get_thumbnails() that extracts the URLs of the thumbnail images for the first n videos on the channel.\n",
    "\n",
    "The function takes the ytInitialData dictionary as input and an optional parameter n that specifies the number of thumbnails to retrieve (default value is 5). The function first extracts the contents dictionary using the get_contents_dict() function, and then iterates over the first n items in the contents list.\n",
    "\n",
    "For each item, the function extracts the URL of the highest resolution thumbnail image by selecting the last item in the thumbnails list of the thumbnail dictionary.\n",
    "\n",
    "The resulting list result contains the URLs of the thumbnail images for the first n videos on the channel. These URLs can be used to download and display the thumbnail images for each video."
   ]
  },
  {
   "cell_type": "markdown",
   "id": "c510cdb4-67e0-4f82-ba10-b94625e26919",
   "metadata": {},
   "source": [
    "## Q3. Write a python program to extract the title of the first five videos.\n",
    "\n",
    "\n",
    "### Get video title"
   ]
  },
  {
   "cell_type": "code",
   "execution_count": 9,
   "id": "687ab7d1-623b-4faf-8c50-6a3503b3005e",
   "metadata": {},
   "outputs": [
    {
     "data": {
      "text/plain": [
       "['Launching PAHAL Batch 🔥 For Class 11th Arts Students 💪',\n",
       " 'Launching FUNDO For Class - 6th to 8th Students 🔥💯 || Ab Hoga Padhai Ke Sath FUN 🤩',\n",
       " '⚡Unleashing the Power of PW Internationally⚡| Launching Physics Wallah Gulf',\n",
       " 'Big Announcement for Gulf Region Aspirants 🔥| Physics Wallah Gulf Channel Trailer🚀',\n",
       " 'Arjuna JEE v/s Arjuna NEET 🏏- Class 11th Faculties ka Cricket Match 🔥']"
      ]
     },
     "execution_count": 9,
     "metadata": {},
     "output_type": "execute_result"
    }
   ],
   "source": [
    "def get_title(data: dict, n:int = 5):\n",
    "    contents = get_contents_dict(data)\n",
    "\n",
    "    if n > 30:\n",
    "        raise ValueError('Max Limit is 30.')\n",
    "\n",
    "    result = []\n",
    "    for i in range(n):\n",
    "        result.append(contents[i]['richItemRenderer']['content']['videoRenderer']['title']['runs'][-1]['text'])\n",
    "\n",
    "    return result\n",
    "\n",
    "get_title(data)"
   ]
  },
  {
   "cell_type": "markdown",
   "id": "41f580fc-4ae0-4f70-97f3-8183c1625d3b",
   "metadata": {},
   "source": [
    "This code defines a function get_title() that extracts the titles of the first n videos on the channel.\n",
    "\n",
    "The function takes the ytInitialData dictionary as input and an optional parameter n that specifies the number of titles to retrieve (default value is 5). The function first extracts the contents dictionary using the get_contents_dict() function, and then iterates over the first n items in the contents list.\n",
    "\n",
    "For each item, the function extracts the title of the video by selecting the last item in the runs list of the title dictionary.\n",
    "\n",
    "The resulting list result contains the titles of the first n videos on the channel. These titles can be used to identify each video and to display the titles in a list or table."
   ]
  },
  {
   "cell_type": "markdown",
   "id": "9198290c-6719-489f-9f3e-11aba34f0124",
   "metadata": {},
   "source": [
    "##  Q4. Write a python program to extract the number of views of the first five videos.\n",
    "\n",
    "\n",
    "### Get video viwes"
   ]
  },
  {
   "cell_type": "code",
   "execution_count": 11,
   "id": "09bc112a-6a8d-4297-bbaf-bd70e7a5795c",
   "metadata": {},
   "outputs": [
    {
     "data": {
      "text/plain": [
       "[24653, 22993, 67036, 97971, 382411]"
      ]
     },
     "execution_count": 11,
     "metadata": {},
     "output_type": "execute_result"
    }
   ],
   "source": [
    "def get_viwes(data: dict, n: int = 5):\n",
    "    contents = get_contents_dict(data)\n",
    "\n",
    "    if n > 30:\n",
    "        raise ValueError('Max Limit is 30.')\n",
    "\n",
    "    result = []\n",
    "    for i in range(n):\n",
    "        result.append(int(contents[i]['richItemRenderer']['content']['videoRenderer']['viewCountText']['simpleText']\n",
    "                      [:-6].replace(',', '')))\n",
    "\n",
    "    return result\n",
    "get_viwes(data)\n"
   ]
  },
  {
   "cell_type": "markdown",
   "id": "455e4f81-79bf-4116-9d5d-494c5430b6e8",
   "metadata": {},
   "source": [
    "\n",
    "This code defines a function get_views() that extracts the view counts of the first n videos on the channel.\n",
    "\n",
    "The function takes the ytInitialData dictionary as input and an optional parameter n that specifies the number of view counts to retrieve (default value is 5). The function first extracts the contents dictionary using the get_contents_dict() function, and then iterates over the first n items in the contents list.\n",
    "\n",
    "For each item, the function extracts the view count of the video by selecting the simpleText value of the viewCountText dictionary. The view count is then converted to an integer by removing the last six characters (which represent \" views\") and any commas.\n",
    "\n",
    "The resulting list result contains the view counts of the first n videos on the channel. These view counts can be used to measure the popularity of each video and to display the view counts in a list or table."
   ]
  },
  {
   "cell_type": "markdown",
   "id": "7633f97a-cc4b-4a77-ba69-2767313593b5",
   "metadata": {},
   "source": [
    "## Q5. Write a python program to extract the time of posting of video for the first five videos.\n",
    "\n",
    "### Get time of posting of video"
   ]
  },
  {
   "cell_type": "markdown",
   "id": "1b8533f1-0eb8-4a90-912a-380644e548d8",
   "metadata": {},
   "source": [
    "def get_time_of_posting(data: dict, n: int = 5):\n",
    "    contents = get_contents_dict(data)\n",
    "\n",
    "    if n > 30:\n",
    "        raise ValueError('Max Limit is 30.')\n",
    "\n",
    "    result = []\n",
    "    for i in range(n):\n",
    "        result.append(contents[i]['richItemRenderer']['content']['videoRenderer']['publishedTimeText']['simpleText'])\n",
    "\n",
    "    return result\n",
    "\n",
    "get_time_of_posting(data)"
   ]
  },
  {
   "cell_type": "markdown",
   "id": "7f53c31c-c8d5-410c-97dc-560e60ade7ef",
   "metadata": {},
   "source": [
    "\n",
    "This code defines a function get_time_of_posting() that extracts the publication dates of the first n videos on the channel.\n",
    "\n",
    "The function takes the ytInitialData dictionary as input and an optional parameter n that specifies the number of publication dates to retrieve (default value is 5). The function first extracts the contents dictionary using the get_contents_dict() function, and then iterates over the first n items in the contents list.\n",
    "\n",
    "For each item, the function extracts the publication date of the video by selecting the simpleText value of the publishedTimeText dictionary.\n",
    "\n",
    "The resulting list result contains the publication dates of the first n videos on the channel. These dates can be used to determine when each video was published and to display the publication dates in a list or table."
   ]
  },
  {
   "cell_type": "markdown",
   "id": "f53ec9d8-fc41-4047-8a7e-fb25ccd84771",
   "metadata": {},
   "source": [
    "# Note: Save all the data scraped in the above questions in a CSV file.\n",
    "\n",
    "## Save data in CSV format."
   ]
  },
  {
   "cell_type": "code",
   "execution_count": 14,
   "id": "a9fb011a-e8bc-437d-8267-7f33944ce261",
   "metadata": {},
   "outputs": [],
   "source": [
    "def get_channel_video_details(data: dict, n: int):\n",
    "    thumbnails = get_thumbnails(data, n)\n",
    "    time_of_posting = get_time_of_posting(data, n)\n",
    "    titles = get_title(data, n)\n",
    "    video_urls = get_videoUrl(data, n)\n",
    "\n",
    "    main_data = list(zip(video_urls, titles, thumbnails, time_of_posting))\n",
    "    \n",
    "    df = DataFrame.from_dict(main_data)\n",
    "    df.rename(\n",
    "        columns={\n",
    "            0: 'video_urls',\n",
    "            1: 'title',\n",
    "            2: 'thumbnail_url',\n",
    "            3: 'time_of_posting'\n",
    "        }, inplace=True)\n",
    "\n",
    "    return df\n",
    "\n",
    "channel_data = get_channel_video_details(data, 30)\n",
    "channel_data.to_csv('PW-Foundation.csv', index=False)"
   ]
  },
  {
   "cell_type": "markdown",
   "id": "2e43d8ab-a96f-4ce5-ba26-15917216a7dc",
   "metadata": {},
   "source": [
    "This code defines a function get_channel_video_details() that extracts the video details of the first n videos on the channel.\n",
    "\n",
    "The function takes the ytInitialData dictionary as input and an integer n that specifies the number of videos to retrieve. The function calls the get_thumbnails(), get_time_of_posting(), get_title(), and get_videoUrl() functions to extract the thumbnail URLs, publication dates, titles, and video URLs of the first n videos on the channel. It then zips these lists together into a single list of tuples called main_data.\n",
    "\n",
    "The function then creates a Pandas DataFrame from main_data and renames the columns to video_urls, title, thumbnail_url, and time_of_posting. Finally, the function returns the DataFrame.\n",
    "\n",
    "The resulting DataFrame channel_data contains the video details of the first n videos on the channel, including the video URLs, titles, thumbnail URLs, and publication dates. The DataFrame is saved to a CSV file called PW-Foundation.csv with the to_csv() method."
   ]
  },
  {
   "cell_type": "code",
   "execution_count": null,
   "id": "083e467f-b842-4e10-9ae7-fed9c7e6d851",
   "metadata": {},
   "outputs": [],
   "source": []
  }
 ],
 "metadata": {
  "kernelspec": {
   "display_name": "Python 3 (ipykernel)",
   "language": "python",
   "name": "python3"
  },
  "language_info": {
   "codemirror_mode": {
    "name": "ipython",
    "version": 3
   },
   "file_extension": ".py",
   "mimetype": "text/x-python",
   "name": "python",
   "nbconvert_exporter": "python",
   "pygments_lexer": "ipython3",
   "version": "3.10.8"
  }
 },
 "nbformat": 4,
 "nbformat_minor": 5
}
