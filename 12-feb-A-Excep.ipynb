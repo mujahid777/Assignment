{
 "cells": [
  {
   "cell_type": "markdown",
   "id": "c9dde6cb-1d7a-4773-8f2e-199e3c94afb6",
   "metadata": {},
   "source": [
    "## 1) What is Exception in Python? Write a difference between Exception and Syntax Error?\n",
    "\n",
    "In Python, an exception is an event that occurs during the execution of a program that disrupts the normal flow of the program's instructions. Exceptions are used to handle errors and other exceptional conditions that can arise while a program is running.\n",
    "\n",
    "A syntax error, on the other hand, is a type of error that occurs when the code written in the program violates the rules of the Python syntax. Syntax errors are detected by the Python interpreter before the code is executed, and they prevent the program from running.\n",
    "\n",
    "The main difference between an exception and a syntax error is that exceptions occur at runtime, while syntax errors occur at compile time. Additionally, syntax errors are usually easier to detect and fix because they prevent the code from being executed, whereas exceptions can be more difficult to debug because they occur only when the code is running.\n",
    "\n",
    "For example, trying to divide a number by zero will raise an exception (ZeroDivisionError), whereas forgetting to put quotes around a string in a print statement would result in a syntax error."
   ]
  },
  {
   "cell_type": "markdown",
   "id": "287eb551-c41f-4e76-a646-539d67d51b46",
   "metadata": {},
   "source": [
    "## 2) What happens if an exception is not handled? Explain with an example.\n",
    "\n",
    "If an exception is not handled in a Python program, the program will terminate abruptly and an error message will be displayed. The error message indicates what type of exception was raised and where it occurred in the code.\n",
    "\n",
    "For example, consider the following code:"
   ]
  },
  {
   "cell_type": "code",
   "execution_count": 1,
   "id": "6978a396-1561-4336-bf8b-bdc3c0f3cb50",
   "metadata": {},
   "outputs": [
    {
     "ename": "ZeroDivisionError",
     "evalue": "division by zero",
     "output_type": "error",
     "traceback": [
      "\u001b[0;31m---------------------------------------------------------------------------\u001b[0m",
      "\u001b[0;31mZeroDivisionError\u001b[0m                         Traceback (most recent call last)",
      "Cell \u001b[0;32mIn[1], line 7\u001b[0m\n\u001b[1;32m      4\u001b[0m x \u001b[38;5;241m=\u001b[39m \u001b[38;5;241m10\u001b[39m\n\u001b[1;32m      5\u001b[0m y \u001b[38;5;241m=\u001b[39m \u001b[38;5;241m0\u001b[39m\n\u001b[0;32m----> 7\u001b[0m result \u001b[38;5;241m=\u001b[39m \u001b[43mdivide\u001b[49m\u001b[43m(\u001b[49m\u001b[43mx\u001b[49m\u001b[43m,\u001b[49m\u001b[43m \u001b[49m\u001b[43my\u001b[49m\u001b[43m)\u001b[49m\n\u001b[1;32m      8\u001b[0m \u001b[38;5;28mprint\u001b[39m(result)\n",
      "Cell \u001b[0;32mIn[1], line 2\u001b[0m, in \u001b[0;36mdivide\u001b[0;34m(x, y)\u001b[0m\n\u001b[1;32m      1\u001b[0m \u001b[38;5;28;01mdef\u001b[39;00m \u001b[38;5;21mdivide\u001b[39m(x, y):\n\u001b[0;32m----> 2\u001b[0m     \u001b[38;5;28;01mreturn\u001b[39;00m \u001b[43mx\u001b[49m\u001b[43m \u001b[49m\u001b[38;5;241;43m/\u001b[39;49m\u001b[43m \u001b[49m\u001b[43my\u001b[49m\n",
      "\u001b[0;31mZeroDivisionError\u001b[0m: division by zero"
     ]
    }
   ],
   "source": [
    "def divide(x, y):\n",
    "    return x / y\n",
    "\n",
    "x = 10\n",
    "y = 0\n",
    "\n",
    "result = divide(x, y)\n",
    "print(result)"
   ]
  },
  {
   "cell_type": "markdown",
   "id": "be092aab-233f-42b5-bfea-df933b24ef8b",
   "metadata": {},
   "source": [
    "In this code, we are trying to divide x by y, which will result in a ZeroDivisionError exception because dividing by zero is not allowed in mathematics. If this exception is not handled, the program will terminate with the above error message\n",
    "\n",
    "This error message provides information about the type of exception (ZeroDivisionError) and the location in the code where the exception was raised (line 2 of the divide function). This information can be useful for debugging the program and fixing the problem.\n",
    "\n",
    "It is generally a good practice to handle exceptions in your code so that the program can continue running even if an error occurs, instead of abruptly terminating. You can handle exceptions using a try-except block, which allows you to catch specific exceptions and perform specific actions in response to those exceptions."
   ]
  },
  {
   "cell_type": "markdown",
   "id": "ae810237-3a2c-4d38-b808-eda9f08a0bb1",
   "metadata": {},
   "source": [
    "## 3) Which Python statements are used to catch and handle exceptions? Explain with an example.\n",
    "\n",
    "The try and except statements in Python are used to catch and handle exceptions. The try statement is used to define a block of code that you want to monitor for exceptions, and the except statement is used to define the actions to take in response to exceptions that are raised in the try block.\n",
    "\n",
    "Here's an example that demonstrates how the try and except statements can be used to catch and handle exceptions:"
   ]
  },
  {
   "cell_type": "code",
   "execution_count": 2,
   "id": "c04c2aab-4d73-4cd6-8f63-11be17d64b19",
   "metadata": {},
   "outputs": [
    {
     "name": "stdout",
     "output_type": "stream",
     "text": [
      "Error: Cannot divide by zero.\n"
     ]
    }
   ],
   "source": [
    "try:\n",
    "    # code that might raise an exception\n",
    "    result = 10 / 0\n",
    "except ZeroDivisionError as e:\n",
    "    # code that will be executed if the exception is raised\n",
    "    print(\"Error: Cannot divide by zero.\")\n",
    "else:\n",
    "    # code that will be executed if no exception was raised\n",
    "    print(result)"
   ]
  },
  {
   "cell_type": "markdown",
   "id": "03b6d615-82d8-4991-8b2b-a01a84d1a1fd",
   "metadata": {},
   "source": [
    "In this example, the code in the try block attempts to divide 10 by 0, which will result in a ZeroDivisionError exception. The except statement catches this exception and prints an error message. The else statement provides a block of code that will be executed if no exception was raised in the try block. In this case, the else block will not be executed because an exception was raised in the try block.\n",
    "\n",
    "You can also specify multiple except statements to handle different types of exceptions in different ways. For example:"
   ]
  },
  {
   "cell_type": "code",
   "execution_count": 3,
   "id": "fa7d6a55-e925-4aef-95ba-d5d90732af3b",
   "metadata": {},
   "outputs": [
    {
     "name": "stdout",
     "output_type": "stream",
     "text": [
      "Error: Invalid input. Please enter a number.\n"
     ]
    }
   ],
   "source": [
    "try:\n",
    "    # code that might raise an exception\n",
    "    x = int(\"abc\")\n",
    "except ValueError as e:\n",
    "    # code that will be executed if a ValueError is raised\n",
    "    print(\"Error: Invalid input. Please enter a number.\")\n",
    "except ZeroDivisionError as e:\n",
    "    # code that will be executed if a ZeroDivisionError is raised\n",
    "    print(\"Error: Cannot divide by zero.\")\n",
    "else:\n",
    "    # code that will be executed if no exception was raised\n",
    "    print(x)"
   ]
  },
  {
   "cell_type": "markdown",
   "id": "801a2d45-5fe9-48b0-9394-84299c67041d",
   "metadata": {},
   "source": [
    "In this example, the code in the try block attempts to convert a string to an integer, which will result in a ValueError exception. The first except statement catches this exception and prints an error message. The second except statement catches a ZeroDivisionError exception, but this exception will not be raised in this example. The else statement provides a block of code that will be executed if no exception was raised in the try block."
   ]
  },
  {
   "cell_type": "markdown",
   "id": "a2fd6d36-e91f-419e-8b4a-171789fd3b27",
   "metadata": {},
   "source": [
    "# 4) Explain with an example\n",
    "## a)try and else\n",
    "## b)finally\n",
    "## c)raise"
   ]
  },
  {
   "cell_type": "markdown",
   "id": "1d04c44b-82c2-4653-a27f-f5d03e759fdb",
   "metadata": {},
   "source": [
    "Here's an example that demonstrates the try and else statements:"
   ]
  },
  {
   "cell_type": "code",
   "execution_count": 5,
   "id": "d451f9e2-ddd0-4367-963c-ad0bda960dc7",
   "metadata": {},
   "outputs": [
    {
     "name": "stdout",
     "output_type": "stream",
     "text": [
      "5.0\n"
     ]
    }
   ],
   "source": [
    "try:\n",
    "    # code that might raise an exception\n",
    "    result = 10 / 2\n",
    "except ZeroDivisionError as e:\n",
    "    # code that will be executed if an exception is raised\n",
    "    print(\"Error: Cannot divide by zero.\")\n",
    "else:\n",
    "    # code that will be executed if no exception was raised\n",
    "    print(result)"
   ]
  },
  {
   "cell_type": "markdown",
   "id": "2b31bdaf-63aa-4c9d-a1ce-871b6562f6ed",
   "metadata": {},
   "source": [
    "In this example, the code in the try block divides 10 by 2. Since this operation does not result in an exception, the code in the else block will be executed and will print the result (5).\n",
    "\n",
    "Here's an example that demonstrates the finally statement:"
   ]
  },
  {
   "cell_type": "code",
   "execution_count": 6,
   "id": "fe156afa-1146-481b-b040-276b6ebf95c0",
   "metadata": {},
   "outputs": [
    {
     "name": "stdout",
     "output_type": "stream",
     "text": [
      "Error: Cannot divide by zero.\n",
      "Finally block executed.\n"
     ]
    }
   ],
   "source": [
    "try:\n",
    "    # code that might raise an exception\n",
    "    result = 10 / 0\n",
    "except ZeroDivisionError as e:\n",
    "    # code that will be executed if an exception is raised\n",
    "    print(\"Error: Cannot divide by zero.\")\n",
    "finally:\n",
    "    # code that will always be executed, regardless of whether an exception was raised or not\n",
    "    print(\"Finally block executed.\")"
   ]
  },
  {
   "cell_type": "markdown",
   "id": "be2b433a-6db0-483d-b472-8db167983309",
   "metadata": {},
   "source": [
    "In this example, the code in the try block attempts to divide 10 by 0, which will result in a ZeroDivisionError exception. The except statement catches this exception and prints an error message. The finally block provides code that will always be executed, regardless of whether an exception was raised or not. In this case, the finally block will print a message indicating that it was executed.\n",
    "\n",
    "Here's an example that demonstrates the raise statement:"
   ]
  },
  {
   "cell_type": "code",
   "execution_count": 8,
   "id": "5a58959a-862b-40cf-92e0-133db6b8766b",
   "metadata": {},
   "outputs": [
    {
     "name": "stdout",
     "output_type": "stream",
     "text": [
      "Error: Cannot divide by zero.\n"
     ]
    }
   ],
   "source": [
    "def divide(a, b):\n",
    "    if b == 0:\n",
    "        raise ValueError(\"Error: Cannot divide by zero.\")\n",
    "    return a / b\n",
    "\n",
    "try:\n",
    "    result = divide(10, 0)\n",
    "except ValueError as e:\n",
    "    print(e)"
   ]
  },
  {
   "cell_type": "markdown",
   "id": "02e27bfa-188b-4f6c-a9b9-cfc3a6d095dd",
   "metadata": {},
   "source": [
    "In this example, the divide function raises a ValueError exception if the second argument is 0. The try-except block calls the divide function and catches the ValueError exception that is raised. The except block prints the error message that was included in the raise statement. This way, the function can provide a more descriptive error message and handle the error in a controlled manner, instead of abruptly terminating the program."
   ]
  },
  {
   "cell_type": "markdown",
   "id": "5ac3180f-c753-4a26-b11b-9e3896cfeef8",
   "metadata": {},
   "source": [
    "## 6) Create a Custom Exception class. Use this class to handle an exception\n",
    "\n",
    "Here's an example of how to create a custom exception class in Python:"
   ]
  },
  {
   "cell_type": "code",
   "execution_count": 10,
   "id": "63e30cab-e5fa-47d6-b3f6-e52b3e8d01f6",
   "metadata": {},
   "outputs": [
    {
     "name": "stdout",
     "output_type": "stream",
     "text": [
      "Error: Cannot divide by zero.\n"
     ]
    }
   ],
   "source": [
    "class CustomException(Exception):\n",
    "    def __init__(self, message):\n",
    "        self.message = message\n",
    "\n",
    "def divide(a, b):\n",
    "    if b == 0:\n",
    "        raise CustomException(\"Error: Cannot divide by zero.\")\n",
    "    return a / b\n",
    "\n",
    "try:\n",
    "    result = divide(10, 0)\n",
    "except CustomException as e:\n",
    "    print(e.message)"
   ]
  },
  {
   "cell_type": "markdown",
   "id": "4de33baa-88fb-4959-ab8b-b3719c692c4a",
   "metadata": {},
   "source": [
    "In this example, we define a custom exception class CustomException that inherits from the built-in Exception class. The custom exception takes a message as an argument, which can be accessed using the message attribute. The divide function raises the CustomException exception if the second argument is 0, providing a descriptive error message. The try-except block calls the divide function and catches the CustomException exception. The except block prints the error message from the custom exception."
   ]
  },
  {
   "cell_type": "code",
   "execution_count": null,
   "id": "6dece938-b7a8-4ff3-bf4f-19baad062472",
   "metadata": {},
   "outputs": [],
   "source": []
  }
 ],
 "metadata": {
  "kernelspec": {
   "display_name": "Python 3 (ipykernel)",
   "language": "python",
   "name": "python3"
  },
  "language_info": {
   "codemirror_mode": {
    "name": "ipython",
    "version": 3
   },
   "file_extension": ".py",
   "mimetype": "text/x-python",
   "name": "python",
   "nbconvert_exporter": "python",
   "pygments_lexer": "ipython3",
   "version": "3.10.8"
  }
 },
 "nbformat": 4,
 "nbformat_minor": 5
}
