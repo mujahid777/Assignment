{
 "cells": [
  {
   "cell_type": "markdown",
   "id": "ff1f2d9f-9d95-432b-aa70-677d799dd0e1",
   "metadata": {},
   "source": [
    "### Q.1> Explain GET and POST methods.\n",
    "\n",
    "**GET:** The GET method is used to retrieve data from a server. When a user types a URL into a web browser, \n",
    "the browser sends a GET request to the server asking for the resource at that URL. The parameters for the \n",
    "request (such as search queries or page number) are included in the URL itself, separated by a question mark. \n",
    "Because the parameters are included in the URL, GET requests are visible to the user and can be bookmarked or \n",
    "shared. GET requests are also cached by browsers, which can speed up page load times for frequently visited pages.\n",
    "\n",
    "**POST:** The POST method is used to send data to a server. For example, when a user fills out a form on a website \n",
    "and clicks \"Submit,\" the data from the form is sent to the server using a POST request. Unlike GET requests, \n",
    "POST requests do not include parameters in the URL. Instead, they include the parameters in the request body, \n",
    "which is not visible to the user. This makes POST requests more secure for transmitting sensitive information \n",
    "such as passwords or credit card numbers. Because POST requests are not cached, they are slower than GET requests \n",
    "for repeated requests of the same data."
   ]
  },
  {
   "cell_type": "markdown",
   "id": "cf41e891-16af-484b-8845-fbf88bb814e3",
   "metadata": {},
   "source": [
    "### Q.2> Why is request used in Flask?\n",
    "\n",
    "The request module in Flask is used to access incoming request data in Flask applications. When a client \n",
    "(such as a web browser) sends a request to a Flask web application, the application can use the request \n",
    "module to access information about the request, such as the HTTP method used (e.g. GET, POST, etc.), the \n",
    "data sent in the request body (if any), and any parameters or data sent as part of the request URL."
   ]
  },
  {
   "cell_type": "markdown",
   "id": "03402a26-f0d4-48c4-b0a0-5cb034e7c7fc",
   "metadata": {},
   "source": [
    "### Q.3> Why is redirect() used in Flask?\n",
    "\n",
    "The redirect() function in Flask is used to redirect the user to a different URL or route within a \n",
    "Flask application. When a Flask application receives a request, it can use the redirect() function \n",
    "to send the user to a different URL or route, which can be useful for a variety of reasons."
   ]
  },
  {
   "cell_type": "markdown",
   "id": "4a203222-5181-4f92-bea4-1970b3679727",
   "metadata": {},
   "source": [
    "### Q.4> What are templates in Flask? Why is the render_template() function used?\n",
    "Templates in Flask are files that contain HTML code with placeholders for dynamic content that will be  \n",
    "filled in by the Flask application at runtime. Templates allow developers to separate the presentation \n",
    "logic from the business logic of the application, making it easier to manage and maintain the application\n",
    "over time.\n",
    "\n",
    "The render_template() function in Flask is used to render templates and return the result as a response to \n",
    "a client's request. The function takes the name of a template file as its argument and any additional data \n",
    "that needs to be passed to the template for rendering. The function then processes the template, filling in\n",
    "the placeholders with the dynamic data and returning the resulting HTML code as a response to the client's"
   ]
  },
  {
   "cell_type": "markdown",
   "id": "e681d9bd-d79b-458f-bec5-abcc9571578f",
   "metadata": {},
   "source": [
    "### Q.5> Create a simple API. Use Postman to test it. Attach the screenshot of the output in the Jupyter Notebook."
   ]
  },
  {
   "cell_type": "code",
   "execution_count": 2,
   "id": "b05ab477-1ab9-41e6-a4a6-d4df2b98da78",
   "metadata": {},
   "outputs": [
    {
     "name": "stdout",
     "output_type": "stream",
     "text": [
      "Collecting flask\n",
      "  Downloading Flask-2.3.2-py3-none-any.whl (96 kB)\n",
      "\u001b[2K     \u001b[90m━━━━━━━━━━━━━━━━━━━━━━━━━━━━━━━━━━━━━━━━\u001b[0m \u001b[32m96.9/96.9 kB\u001b[0m \u001b[31m4.0 MB/s\u001b[0m eta \u001b[36m0:00:00\u001b[0m\n",
      "\u001b[?25hCollecting itsdangerous>=2.1.2\n",
      "  Downloading itsdangerous-2.1.2-py3-none-any.whl (15 kB)\n",
      "Requirement already satisfied: click>=8.1.3 in /opt/conda/lib/python3.10/site-packages (from flask) (8.1.3)\n",
      "Collecting blinker>=1.6.2\n",
      "  Downloading blinker-1.6.2-py3-none-any.whl (13 kB)\n",
      "Collecting Werkzeug>=2.3.3\n",
      "  Downloading Werkzeug-2.3.6-py3-none-any.whl (242 kB)\n",
      "\u001b[2K     \u001b[90m━━━━━━━━━━━━━━━━━━━━━━━━━━━━━━━━━━━━━━\u001b[0m \u001b[32m242.5/242.5 kB\u001b[0m \u001b[31m31.0 MB/s\u001b[0m eta \u001b[36m0:00:00\u001b[0m\n",
      "\u001b[?25hRequirement already satisfied: Jinja2>=3.1.2 in /opt/conda/lib/python3.10/site-packages (from flask) (3.1.2)\n",
      "Requirement already satisfied: MarkupSafe>=2.0 in /opt/conda/lib/python3.10/site-packages (from Jinja2>=3.1.2->flask) (2.1.1)\n",
      "Installing collected packages: Werkzeug, itsdangerous, blinker, flask\n",
      "  Attempting uninstall: blinker\n",
      "    Found existing installation: blinker 1.5\n",
      "    Uninstalling blinker-1.5:\n",
      "      Successfully uninstalled blinker-1.5\n",
      "Successfully installed Werkzeug-2.3.6 blinker-1.6.2 flask-2.3.2 itsdangerous-2.1.2\n"
     ]
    }
   ],
   "source": [
    "!pip install flask\n"
   ]
  },
  {
   "cell_type": "code",
   "execution_count": 3,
   "id": "c69afabe-2fab-4249-aa47-49af0bb39036",
   "metadata": {},
   "outputs": [
    {
     "name": "stdout",
     "output_type": "stream",
     "text": [
      " * Serving Flask app '__main__'\n",
      " * Debug mode: on\n"
     ]
    },
    {
     "name": "stderr",
     "output_type": "stream",
     "text": [
      "WARNING: This is a development server. Do not use it in a production deployment. Use a production WSGI server instead.\n",
      " * Running on http://127.0.0.1:5000\n",
      "Press CTRL+C to quit\n",
      " * Restarting with stat\n",
      "Traceback (most recent call last):\n",
      "  File \"/opt/conda/lib/python3.10/runpy.py\", line 196, in _run_module_as_main\n",
      "    return _run_code(code, main_globals, None,\n",
      "  File \"/opt/conda/lib/python3.10/runpy.py\", line 86, in _run_code\n",
      "    exec(code, run_globals)\n",
      "  File \"/opt/conda/lib/python3.10/site-packages/ipykernel_launcher.py\", line 17, in <module>\n",
      "    app.launch_new_instance()\n",
      "  File \"/opt/conda/lib/python3.10/site-packages/traitlets/config/application.py\", line 991, in launch_instance\n",
      "    app.initialize(argv)\n",
      "  File \"/opt/conda/lib/python3.10/site-packages/traitlets/config/application.py\", line 113, in inner\n",
      "    return method(app, *args, **kwargs)\n",
      "  File \"/opt/conda/lib/python3.10/site-packages/ipykernel/kernelapp.py\", line 665, in initialize\n",
      "    self.init_sockets()\n",
      "  File \"/opt/conda/lib/python3.10/site-packages/ipykernel/kernelapp.py\", line 309, in init_sockets\n",
      "    self.shell_port = self._bind_socket(self.shell_socket, self.shell_port)\n",
      "  File \"/opt/conda/lib/python3.10/site-packages/ipykernel/kernelapp.py\", line 246, in _bind_socket\n",
      "    return self._try_bind_socket(s, port)\n",
      "  File \"/opt/conda/lib/python3.10/site-packages/ipykernel/kernelapp.py\", line 222, in _try_bind_socket\n",
      "    s.bind(\"tcp://%s:%i\" % (self.ip, port))\n",
      "  File \"/opt/conda/lib/python3.10/site-packages/zmq/sugar/socket.py\", line 232, in bind\n",
      "    super().bind(addr)\n",
      "  File \"zmq/backend/cython/socket.pyx\", line 568, in zmq.backend.cython.socket.Socket.bind\n",
      "  File \"zmq/backend/cython/checkrc.pxd\", line 28, in zmq.backend.cython.checkrc._check_rc\n",
      "zmq.error.ZMQError: Address already in use\n"
     ]
    },
    {
     "ename": "SystemExit",
     "evalue": "1",
     "output_type": "error",
     "traceback": [
      "An exception has occurred, use %tb to see the full traceback.\n",
      "\u001b[0;31mSystemExit\u001b[0m\u001b[0;31m:\u001b[0m 1\n"
     ]
    },
    {
     "name": "stderr",
     "output_type": "stream",
     "text": [
      "/opt/conda/lib/python3.10/site-packages/IPython/core/interactiveshell.py:3441: UserWarning: To exit: use 'exit', 'quit', or Ctrl-D.\n",
      "  warn(\"To exit: use 'exit', 'quit', or Ctrl-D.\", stacklevel=1)\n"
     ]
    }
   ],
   "source": [
    "from flask import Flask, jsonify, request\n",
    "\n",
    "app = Flask(__name__)\n",
    "\n",
    "# Define the company and employees data\n",
    "company = {'name': 'Acme Inc.', 'employees': [\n",
    "    {'name': 'Sarfraj', 'title': 'Data Scientist'},\n",
    "    {'name': 'Abhishek ', 'title': 'Web Developer'},\n",
    "    {'name': 'Faizan ', 'title': 'Sales Manager'}\n",
    "]}\n",
    "\n",
    "# Define a route to get the company name\n",
    "@app.route('/company/name', methods=['GET'])\n",
    "def get_company_name():\n",
    "    return jsonify({'name': company['name']})\n",
    "\n",
    "# Define a route to get the employees\n",
    "@app.route('/company/employees', methods=['GET'])\n",
    "def get_employees():\n",
    "    return jsonify({'employees': company['employees']})\n",
    "\n",
    "# Define a route to add an employee\n",
    "@app.route('/company/employees', methods=['POST'])\n",
    "def add_employee():\n",
    "    employee = request.get_json()\n",
    "    company['employees'].append(employee)\n",
    "    return jsonify({'employees': company['employees']})\n",
    "\n",
    "if __name__ == '__main__':\n",
    "    app.run(debug=True)"
   ]
  },
  {
   "cell_type": "code",
   "execution_count": null,
   "id": "192e92dd-3eb1-4498-9b08-8ee1ee331f1a",
   "metadata": {},
   "outputs": [],
   "source": []
  }
 ],
 "metadata": {
  "kernelspec": {
   "display_name": "Python 3 (ipykernel)",
   "language": "python",
   "name": "python3"
  },
  "language_info": {
   "codemirror_mode": {
    "name": "ipython",
    "version": 3
   },
   "file_extension": ".py",
   "mimetype": "text/x-python",
   "name": "python",
   "nbconvert_exporter": "python",
   "pygments_lexer": "ipython3",
   "version": "3.10.8"
  }
 },
 "nbformat": 4,
 "nbformat_minor": 5
}
