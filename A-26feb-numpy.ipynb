{
 "cells": [
  {
   "cell_type": "code",
   "execution_count": null,
   "id": "424a6f79-0d49-446f-a626-566ed91dbae0",
   "metadata": {},
   "outputs": [],
   "source": [
    "# Consider the below code to answer further questions:\n",
    "# import numpy as np\n",
    "# list_ = [ ‘1’ , ’2’ , ‘3’ , ‘4’ , ‘5’ ]\n",
    "# array_list = np.array(object = list_)"
   ]
  },
  {
   "cell_type": "markdown",
   "id": "6692dc36-2760-4f68-8502-7630a22d53fa",
   "metadata": {},
   "source": [
    "### Q1. Is there any difference in the data type of variables list_ and array_list? If there is then write a code to print the data types of both the variables."
   ]
  },
  {
   "cell_type": "raw",
   "id": "24c7ca28-407a-4817-bde3-6343696764c1",
   "metadata": {},
   "source": [
    "Yes, there is a difference in the data type of the variables list_ and array_list.\n",
    "\n",
    "list_ is a Python list that contains string objects, while array_list is a NumPy array that also contains string objects. However, the data type of the objects in array_list is different from the data type of objects in list_.\n",
    "\n",
    "The objects in list_ are of type str, while the objects in array_list are of type numpy.str_.\n",
    "\n",
    "Here is the code to print the data types of both the variables:"
   ]
  },
  {
   "cell_type": "code",
   "execution_count": 1,
   "id": "975e692d-63f5-44b6-b935-39b390f91085",
   "metadata": {},
   "outputs": [
    {
     "name": "stdout",
     "output_type": "stream",
     "text": [
      "Data type of list_: <class 'list'>\n",
      "Data type of data in list_: <class 'str'>\n",
      "Data type of array_list: <class 'numpy.ndarray'>\n",
      "Data type of data in  array_list: <class 'numpy.str_'>\n"
     ]
    }
   ],
   "source": [
    "import numpy as np\n",
    "\n",
    "list_ = ['1', '2', '3', '4', '5']\n",
    "array_list = np.array(object=list_)\n",
    "\n",
    "print(\"Data type of list_:\", type(list_))\n",
    "print(\"Data type of data in list_:\", type(list_[0]))\n",
    "print(\"Data type of array_list:\", type(array_list))\n",
    "print(\"Data type of data in  array_list:\", type(array_list[0]))"
   ]
  },
  {
   "cell_type": "markdown",
   "id": "ead0888b-b9af-440d-8245-c5480136f5e5",
   "metadata": {},
   "source": [
    "### Q2. Write a code to print the data type of each and every element of both the variables list_ and arra_list."
   ]
  },
  {
   "cell_type": "code",
   "execution_count": 2,
   "id": "3281760f-2ec6-435a-b105-a4b9afbee05f",
   "metadata": {},
   "outputs": [
    {
     "name": "stdout",
     "output_type": "stream",
     "text": [
      "Data type of 1 in _list is <class 'str'>\n",
      "Data type of 2 in _list is <class 'str'>\n",
      "Data type of 3 in _list is <class 'str'>\n",
      "Data type of 4 in _list is <class 'str'>\n",
      "Data type of 5 in _list is <class 'str'>\n",
      "\n",
      "Data type of 1 in array_list is <class 'numpy.str_'>\n",
      "Data type of 2 in array_list is <class 'numpy.str_'>\n",
      "Data type of 3 in array_list is <class 'numpy.str_'>\n",
      "Data type of 4 in array_list is <class 'numpy.str_'>\n",
      "Data type of 5 in array_list is <class 'numpy.str_'>\n"
     ]
    }
   ],
   "source": [
    "import numpy as np\n",
    "\n",
    "list_ = ['1', '2', '3', '4', '5']\n",
    "array_list = np.array(object=list_)\n",
    "\n",
    "#Printing data types of all element in list_\n",
    "for ele in list_:\n",
    "    print(f\"Data type of {ele} in _list is {type(ele)}\")\n",
    "    \n",
    "print()\n",
    "\n",
    "#Printing data types of all element in array_list\n",
    "for ele in array_list:\n",
    "     print(f\"Data type of {ele} in array_list is {type(ele)}\")"
   ]
  },
  {
   "cell_type": "markdown",
   "id": "5a7465cf-d47c-42e4-b736-01ce9037e695",
   "metadata": {},
   "source": [
    "### Q3. Considering the following changes in the variable, array_list:\n"
   ]
  },
  {
   "cell_type": "raw",
   "id": "100dda1b-4795-45fe-98ad-4fac6a9aed99",
   "metadata": {},
   "source": [
    "array_list = np.array(object = list_, dtype = int)"
   ]
  },
  {
   "cell_type": "markdown",
   "id": "091cb284-f0ff-4ca4-8858-3a00a2bd3a9f",
   "metadata": {},
   "source": [
    "### Will there be any difference in the data type of the elements present in both the variables, list_ and arra_list? If so then print the data types of each and every element present in both the variables, list_ and arra_list.\n"
   ]
  },
  {
   "cell_type": "raw",
   "id": "7cfd1839-ea13-40ea-9435-f953c759125d",
   "metadata": {},
   "source": [
    "Consider the below code to answer further questions:\n",
    "import numpy as np\n",
    "num_list = [ [ 1 , 2 , 3 ] , [ 4 , 5 , 6 ] ]\n",
    "num_array = np.array(object = num_list)"
   ]
  },
  {
   "cell_type": "raw",
   "id": "fcd565ce-d593-42ca-8ac7-4993a1c41b10",
   "metadata": {},
   "source": [
    "Ans- \n",
    "Yes, there will be a difference in the data type of the elements present in the variables list_ and array_list.\n",
    "\n",
    "The dtype=int parameter in np.array(object=list_, dtype=int) specifies that the data type of the elements in the resulting NumPy array should be integers. Since the input sequence (list_) contains strings, NumPy will try to convert each string element to an integer. If any element in the input sequence cannot be converted to an integer, a ValueError will be raised.\n",
    "\n",
    "Here is the code to print the data types of each and every element present in both the variables, list_ and array_list after the change:"
   ]
  },
  {
   "cell_type": "code",
   "execution_count": 3,
   "id": "1807d666-9421-41ec-bcf3-75da2fd286f6",
   "metadata": {},
   "outputs": [
    {
     "name": "stdout",
     "output_type": "stream",
     "text": [
      "Data type of 1 in _list is <class 'str'>\n",
      "Data type of 2 in _list is <class 'str'>\n",
      "Data type of 3 in _list is <class 'str'>\n",
      "Data type of 4 in _list is <class 'str'>\n",
      "Data type of 5 in _list is <class 'str'>\n",
      "\n",
      "Data type of 1 in array_list is <class 'numpy.int64'>\n",
      "Data type of 2 in array_list is <class 'numpy.int64'>\n",
      "Data type of 3 in array_list is <class 'numpy.int64'>\n",
      "Data type of 4 in array_list is <class 'numpy.int64'>\n",
      "Data type of 5 in array_list is <class 'numpy.int64'>\n"
     ]
    }
   ],
   "source": [
    "import numpy as np\n",
    "\n",
    "list_ = ['1', '2', '3', '4', '5']\n",
    "array_list = np.array(object = list_, dtype = int)\n",
    "\n",
    "#Printing data types of all element in list_\n",
    "for ele in list_:\n",
    "    print(f\"Data type of {ele} in _list is {type(ele)}\")\n",
    "    \n",
    "print()\n",
    "\n",
    "#Printing data types of all element in array_list\n",
    "for ele in array_list:\n",
    "     print(f\"Data type of {ele} in array_list is {type(ele)}\")"
   ]
  },
  {
   "cell_type": "raw",
   "id": "29331650-3533-45f1-bb55-01e8e8e52a49",
   "metadata": {},
   "source": [
    "As you can see, the elements in list_ are of type str, while the elements in array_list are of type numpy.int64 after the conversion."
   ]
  },
  {
   "cell_type": "code",
   "execution_count": 7,
   "id": "331249d1-13a4-42be-86e5-0a9832302d0d",
   "metadata": {},
   "outputs": [],
   "source": [
    "### Consider the below code to answer further questions:\n",
    "import numpy as np\n",
    "num_list = [ [ 1 , 2 , 3 ] , [ 4 , 5 , 6 ] ]\n",
    "num_array = np.array(object = num_list)"
   ]
  },
  {
   "cell_type": "markdown",
   "id": "6884dcea-ed52-4f94-8a5f-f2d15d4adc98",
   "metadata": {},
   "source": [
    "### Q4. Write a code to find the following characteristics of variable, num_array:\n",
    "### (i) shape\n",
    "### (ii) size"
   ]
  },
  {
   "cell_type": "raw",
   "id": "cd39651c-0640-4881-82bd-8d0b7bd59e02",
   "metadata": {},
   "source": [
    "Here's the code to find the shape and size of the NumPy array num_array"
   ]
  },
  {
   "cell_type": "code",
   "execution_count": null,
   "id": "1e7102f1-216f-40bd-8696-50aabb031ffc",
   "metadata": {},
   "outputs": [
    {
     "name": "stdout",
     "output_type": "stream",
     "text": [
      "Shape of num_array: (2, 3)\n",
      "Size of num_array: 6\n"
     ]
    }
   ],
   "source": [
    "import numpy as np\n",
    "\n",
    "num_list = [[1, 2, 3], [4, 5, 6]]\n",
    "num_array = np.array(object=num_list)\n",
    "\n",
    "# Find the shape of num_array\n",
    "print(\"Shape of num_array:\", num_array.shape)\n",
    "\n",
    "# Find the size of num_array\n",
    "print(\"Size of num_array:\", num_array.size)"
   ]
  },
  {
   "cell_type": "raw",
   "id": "571afed4-3ec8-4098-bb22-1354ad3403b7",
   "metadata": {},
   "source": [
    "As you can see, the shape of num_array is (2, 3), which means it has 2 rows and 3 columns. The size of num_array is 6, which is the total number of elements in the array"
   ]
  },
  {
   "cell_type": "markdown",
   "id": "c3d2559f-1e78-4536-8d7e-2b1472b2e68d",
   "metadata": {},
   "source": [
    "### Q5. Write a code to create numpy array of 3*3 matrix containing zeros only, using a numpy array creation function.[Hint: The size of the array will be 9 and the shape will be (3,3).]"
   ]
  },
  {
   "cell_type": "raw",
   "id": "670a5a8f-c44d-4e14-8d88-418caf35b6eb",
   "metadata": {},
   "source": [
    "Here's the code to create a NumPy array of 3x3 matrix containing zeros only:"
   ]
  },
  {
   "cell_type": "code",
   "execution_count": 11,
   "id": "30215998-459d-4b9d-a932-94e81b685ff9",
   "metadata": {},
   "outputs": [
    {
     "name": "stdout",
     "output_type": "stream",
     "text": [
      "[[0. 0. 0.]\n",
      " [0. 0. 0.]\n",
      " [0. 0. 0.]]\n"
     ]
    }
   ],
   "source": [
    "import numpy as np\n",
    "\n",
    "# Create a NumPy array of 3x3 matrix containing zeros only\n",
    "zeros_array = np.zeros((3, 3))\n",
    "\n",
    "# Print the array\n",
    "print(zeros_array)"
   ]
  },
  {
   "cell_type": "raw",
   "id": "d88adaee-4e13-4ac9-8d1d-4005dcc9177e",
   "metadata": {},
   "source": [
    "The np.zeros((3, 3)) function creates a NumPy array of shape (3, 3) and fills it with zeros."
   ]
  },
  {
   "cell_type": "markdown",
   "id": "6c6fb57f-1e1c-404e-872a-3409e09a539c",
   "metadata": {},
   "source": [
    "### Q6. Create an identity matrix of shape (5,5) using numpy functions? [Hint: An identity matrix is a matrix containing 1 diagonally and other elements will be 0.]"
   ]
  },
  {
   "cell_type": "raw",
   "id": "e1ae48ea-9d20-4b3b-a05d-ef8e44a9c360",
   "metadata": {},
   "source": [
    "Here's the code to create an identity matrix of shape (5, 5) using NumPy functions:"
   ]
  },
  {
   "cell_type": "code",
   "execution_count": 12,
   "id": "8f95bfd7-f99e-4dfd-98ca-626c52aab396",
   "metadata": {},
   "outputs": [
    {
     "name": "stdout",
     "output_type": "stream",
     "text": [
      "[[1. 0. 0. 0. 0.]\n",
      " [0. 1. 0. 0. 0.]\n",
      " [0. 0. 1. 0. 0.]\n",
      " [0. 0. 0. 1. 0.]\n",
      " [0. 0. 0. 0. 1.]]\n"
     ]
    }
   ],
   "source": [
    "import numpy as np\n",
    "\n",
    "# Create an identity matrix of shape (5, 5)\n",
    "identity_matrix = np.eye(5)\n",
    "\n",
    "# Print the matrix\n",
    "print(identity_matrix)"
   ]
  },
  {
   "cell_type": "raw",
   "id": "08f5f7ab-beb9-4831-9014-d2413c542ead",
   "metadata": {},
   "source": [
    "The np.eye(5) function creates an identity matrix of shape (5, 5) where all the diagonal elements are 1 and all other elements are 0."
   ]
  }
 ],
 "metadata": {
  "kernelspec": {
   "display_name": "Python 3 (ipykernel)",
   "language": "python",
   "name": "python3"
  },
  "language_info": {
   "codemirror_mode": {
    "name": "ipython",
    "version": 3
   },
   "file_extension": ".py",
   "mimetype": "text/x-python",
   "name": "python",
   "nbconvert_exporter": "python",
   "pygments_lexer": "ipython3",
   "version": "3.10.8"
  }
 },
 "nbformat": 4,
 "nbformat_minor": 5
}
