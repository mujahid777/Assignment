{
 "cells": [
  {
   "cell_type": "markdown",
   "id": "8b3c579c-8f39-4dfa-9635-53c0e97ce530",
   "metadata": {},
   "source": [
    "##  Q1. What is Flask Framework? What are the advantages of Flask Framework?\n",
    "\n",
    "\n",
    "Flask is a lightweight, open-source Python web framework that allows developers to easily build web applications. It provides a simple and flexible approach to web development, making it a popular choice for building small to medium-sized web applications.\n",
    "\n",
    "Some of the advantages of Flask include:\n",
    "\n",
    "-Lightweight: Flask is a lightweight web framework, making it easy to set up and run. It does not require a lot of dependencies or complex configuration, which makes it ideal for smaller projects.\n",
    "\n",
    "-Flexibility: Flask allows developers to customize and tailor the framework to suit their specific needs. It is designed to be modular, so developers can add or remove functionality as needed.\n",
    "\n",
    "-Easy to Learn: Flask is one of the easiest web frameworks to learn, thanks to its simplicity and clear documentation. Developers with a basic understanding of Python can quickly get up and running with Flask.\n",
    "\n",
    "-Extensibility: Flask has a large and active community, with a wide range of plugins and extensions available. This makes it easy to add new functionality to your application, without having to write everything from scratch.\n",
    "\n",
    "-Built-in Development Server: Flask comes with a built-in development server that allows developers to test their applications locally before deploying them to a production environment.\n",
    "\n",
    "-Compatibility: Flask can be easily integrated with other popular technologies, such as SQL databases, NoSQL databases, and front-end frameworks like React or Angular. This makes it a flexible choice for building web applications with different requirements.\n",
    "\n",
    "Overall, Flask is a great choice for developers who are looking for a lightweight, flexible, and easy-to-learn web framework for building web applications."
   ]
  },
  {
   "cell_type": "markdown",
   "id": "0b0fc237-e2f2-4bd5-8626-947837164fdc",
   "metadata": {},
   "source": [
    "## Q2. Create a simple Flask application to display ‘Hello World!!’. Attach the screenshot of the output in Jupyter Notebook from flask import Flask\n",
    "\n"
   ]
  },
  {
   "cell_type": "raw",
   "id": "6845fca7-dc9e-4bca-9527-94e2d59ab898",
   "metadata": {},
   "source": [
    "\n",
    "app = Flask(__name__)\n",
    "\n",
    "@app.route(\"/\")\n",
    "def helloWorld():\n",
    "    return \"<h1>Hello World!</h1>\"\n",
    "\n",
    "if __name__ == \"__main__\":\n",
    "    app.run()\n",
    "    "
   ]
  },
  {
   "cell_type": "markdown",
   "id": "e4b71690-5c9d-425f-ae10-2c25077e6fd7",
   "metadata": {},
   "source": [
    "Above is the code for creating the asked Flask Application:\n",
    "\n",
    "Here's what it does:\n",
    "\n",
    "-First, it imports the Flask module.\n",
    "\n",
    "-Then it creates an instance of the Flask class and assigns it to the variable app.\n",
    "\n",
    "-Next, it defines a route for the root URL (\"/\") using the @app.route() decorator. When a user visits this URL, Flask will execute the helloWorld() function and return the message \"Hello World!\" wrapped in an H1 HTML tag.\n",
    "\n",
    "-Finally, it starts the Flask application using the app.run() method.\n",
    "\n",
    "When you run this code, Flask will start a local web server and listen for incoming requests. When a user visits the root URL of your web application, Flask will execute the helloWorld() function and return the \"Hello World!\" message in their web browser."
   ]
  },
  {
   "cell_type": "code",
   "execution_count": null,
   "id": "9da25e20-9964-4cf0-964a-54e9e8053439",
   "metadata": {},
   "outputs": [],
   "source": []
  }
 ],
 "metadata": {
  "kernelspec": {
   "display_name": "Python 3 (ipykernel)",
   "language": "python",
   "name": "python3"
  },
  "language_info": {
   "codemirror_mode": {
    "name": "ipython",
    "version": 3
   },
   "file_extension": ".py",
   "mimetype": "text/x-python",
   "name": "python",
   "nbconvert_exporter": "python",
   "pygments_lexer": "ipython3",
   "version": "3.10.8"
  }
 },
 "nbformat": 4,
 "nbformat_minor": 5
}
