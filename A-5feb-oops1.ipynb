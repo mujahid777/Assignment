{
 "cells": [
  {
   "cell_type": "code",
   "execution_count": 2,
   "id": "89f24ca4-b03e-4d96-9ec9-af2148ddaf76",
   "metadata": {
    "tags": []
   },
   "outputs": [
    {
     "name": "stdout",
     "output_type": "stream",
     "text": [
      "Hero\n",
      "Plus\n",
      "2022\n",
      "bike started\n",
      "bike accelerated\n",
      "bike stopped\n"
     ]
    }
   ],
   "source": [
    "#  Q1. Explain Class and Object with respect to Object-Oriented Programming. Give a suitable example.\n",
    "\n",
    "#   Class is a blueprint or template for creating objects in Object-Oriented Programming (OOP). It defines the \n",
    "#   properties (data members) and behaviors (methods) of the objects that will be created from the class.\n",
    "\n",
    "#   An object is an instance of a class, created at runtime. Objects are variables of the class type and\n",
    "#   contain the actual data. Objects can access the properties and behaviors defined in their class.\n",
    "\n",
    "#   Example: Consider a class called \"bike\" which has properties such as make, model, and year, and behaviors\n",
    "#   such as start, stop, and accelerate. Each bike object created from the bike class would have its own unique make,\n",
    "#   model, and year, but would share the same behaviors defined in the bike class.\n",
    "\n",
    "class bike:\n",
    "    def __init__(self, make, model, year):\n",
    "        self.make = make\n",
    "        self.model = model\n",
    "        self.year = year\n",
    "\n",
    "    def start(self):\n",
    "        print(\"bike started\")\n",
    "\n",
    "    def stop(self):\n",
    "        print(\"bike stopped\")\n",
    "\n",
    "    def accelerate(self):\n",
    "        print(\"bike accelerated\")\n",
    "\n",
    "        \n",
    "my_bike = bike(\"Hero\", \"Plus\", 2022)\n",
    "\n",
    "print(my_bike.make) \n",
    "print(my_bike.model) \n",
    "print(my_bike.year) \n",
    "\n",
    "my_bike.start() \n",
    "my_bike.accelerate() \n",
    "my_bike.stop() "
   ]
  },
  {
   "cell_type": "code",
   "execution_count": 3,
   "id": "2e5dedfa-f070-473f-97af-50da4b0191a2",
   "metadata": {},
   "outputs": [],
   "source": [
    "#  Q2. Name the four pillars of OOPs.\n",
    "\n",
    "#  1)Abstraction \n",
    "#  2)Encapsulation\n",
    "#  3)Inheritance\n",
    "#  4)Polymorphism"
   ]
  },
  {
   "cell_type": "code",
   "execution_count": 4,
   "id": "f3c8e011-2242-4191-bcf7-2efcb4d30560",
   "metadata": {},
   "outputs": [],
   "source": [
    "#  Q3. Explain why the __init__() function is used. Give a suitable example.\n",
    "\n",
    "#  The init function is a special method in Python classes, and is used as a constructor for the class.\n",
    "#  It is executed automatically when an object of the class is created, and its purpose is to initialize\n",
    "#  the attributes of the class.\n",
    "\n",
    "\n"
   ]
  },
  {
   "cell_type": "code",
   "execution_count": 5,
   "id": "a5c0d815-9509-4add-9245-76a3342c3230",
   "metadata": {},
   "outputs": [
    {
     "name": "stdout",
     "output_type": "stream",
     "text": [
      "Hero\n",
      "Plus\n",
      "2020\n"
     ]
    }
   ],
   "source": [
    "#Example\n",
    "\n",
    "\n",
    "class bike:\n",
    "    def __init__(self, make, model, year):\n",
    "        self.make = make\n",
    "        self.model = model\n",
    "        self.year = year\n",
    "\n",
    "bike1 = bike(\"Hero\", \"Plus\", 2020)\n",
    "\n",
    "print(bike1.make) \n",
    "print(bike1.model) \n",
    "print(bike1.year) "
   ]
  },
  {
   "cell_type": "code",
   "execution_count": 6,
   "id": "60d99ddc-29b6-4336-a254-f5560edc8168",
   "metadata": {},
   "outputs": [],
   "source": [
    "#  In this example, the init method takes three arguments - make, model, and year - and assigns\n",
    "#  them to the corresponding attributes of the bike class. When an object bike1 is created using \n",
    "#  bike(\"Hero\", \"plus\", 2020), the init method is called automatically, initializing the make,\n",
    "#  model, and year attributes."
   ]
  },
  {
   "cell_type": "code",
   "execution_count": 7,
   "id": "f639b33b-d2a2-4356-bfbe-8c823cf29ce8",
   "metadata": {},
   "outputs": [
    {
     "name": "stdout",
     "output_type": "stream",
     "text": [
      "Make: Hero\n",
      "Model: Plus\n",
      "Year: 2020\n",
      "Make: Honda\n",
      "Model: Shine\n",
      "Year: 2021\n"
     ]
    }
   ],
   "source": [
    "#  Q4. Why self is used in OOPs?\n",
    "\n",
    "#  In Object-Oriented Programming (OOP), self is a reference to the instance of the object that is calling the method.\n",
    "#  It is used as the first argument in the method definition and it is used to access the attributes and methods of the class.\n",
    "\n",
    "#  The self keyword allows each instance of a class to have its own separate and distinct state, meaning that each object \n",
    "#  created from the class can have its own set of attributes and methods with different values.\n",
    "\n",
    "#Example...\n",
    "\n",
    "class bike:\n",
    "    def __init__(self, make, model, year):\n",
    "        self.make = make\n",
    "        self.model = model\n",
    "        self.year = year\n",
    "        \n",
    "    def display_bike_info(self):\n",
    "        print(f\"Make: {self.make}\")\n",
    "        print(f\"Model: {self.model}\")\n",
    "        print(f\"Year: {self.year}\")\n",
    "\n",
    "bike1 = bike(\"Hero\", \"Plus\", 2020)\n",
    "bike2 = bike(\"Honda\", \"Shine\", 2021)\n",
    "\n",
    "bike1.display_bike_info()\n",
    "\n",
    "bike2.display_bike_info()\n"
   ]
  },
  {
   "cell_type": "code",
   "execution_count": 8,
   "id": "2819b9d2-1f8a-4f1e-adb9-d568671b9832",
   "metadata": {},
   "outputs": [],
   "source": [
    "#  Q5. What is inheritance? Give an example for each type of inheritance.\n",
    "\n",
    "# Ans- Inheritance is a mechanism in Object-Oriented Programming (OOP) that allows a new class to inherit properties and methods \n",
    "#      from an existing class. The existing class is called the parent class or base class, and the new class is called the child class or \n",
    "#      derived class. Inheritance allows for code reusability and makes it easier to create and maintain the code.\n",
    "\n",
    "#  Types of Inheritance depend upon the number of child and parent classes involved. There are four types of inheritance in Python:\n",
    "\n",
    "#  1.SINGLE INHERITANCE:\n",
    "\n",
    "#  Single inheritance enables a derived class to inherit properties from a single parent class, thus enabling code reusability and the addition\n",
    "#  of new features to existing code."
   ]
  },
  {
   "cell_type": "code",
   "execution_count": 10,
   "id": "faaceac0-bfc5-44ca-b683-abbdcd88311f",
   "metadata": {},
   "outputs": [
    {
     "name": "stdout",
     "output_type": "stream",
     "text": [
      "This function is in parent class.\n",
      "This function is in child class.\n"
     ]
    }
   ],
   "source": [
    "# single inheritance\n",
    " \n",
    "# Base class\n",
    "class Parent:\n",
    "    def func1(self):\n",
    "        print(\"This function is in parent class.\")\n",
    " \n",
    "#Derived class\n",
    "class Child(Parent):\n",
    "    def func2(self):\n",
    "        print(\"This function is in child class.\")\n",
    " \n",
    " \n",
    "# Driver's code\n",
    "object = Child()\n",
    "object.func1()\n",
    "object.func2()"
   ]
  },
  {
   "cell_type": "code",
   "execution_count": 12,
   "id": "cb0073cd-42bd-403c-964d-b6a225f14d1a",
   "metadata": {},
   "outputs": [
    {
     "name": "stdout",
     "output_type": "stream",
     "text": [
      "Father : Rohit\n",
      "Mother : Ritika\n"
     ]
    }
   ],
   "source": [
    "#  2.MULTIPLE INHERITANCE:\n",
    "\n",
    "#   When a class can be derived from more than one base class this type of inheritance is called multiple inheritances.\n",
    "#   In multiple inheritances, all the features of the base classes are inherited into the derived class.\n",
    "\n",
    "# Base class1\n",
    "class Mother:\n",
    "    mothername = \"\"\n",
    " \n",
    "    def mother(self):\n",
    "        print(self.mothername)\n",
    " \n",
    "# Base class2\n",
    " \n",
    "class Father:\n",
    "    fathername = \"\"\n",
    " \n",
    "    def father(self):\n",
    "        print(self.fathername)\n",
    " \n",
    "# Derived class\n",
    " \n",
    "class Son(Mother, Father):\n",
    "    def parents(self):\n",
    "        print(\"Father :\", self.fathername)\n",
    "        print(\"Mother :\", self.mothername)\n",
    " \n",
    " \n",
    "# Driver's code\n",
    "s1 = Son()\n",
    "s1.fathername = \"Rohit\"\n",
    "s1.mothername = \"Ritika\"\n",
    "s1.parents()"
   ]
  },
  {
   "cell_type": "code",
   "execution_count": 13,
   "id": "a856ccd7-304f-483a-b6d7-2185dc1b4987",
   "metadata": {},
   "outputs": [
    {
     "name": "stdout",
     "output_type": "stream",
     "text": [
      "Shami\n",
      "Grandfather name : Shami\n",
      "Father name : Vijay\n",
      "Son name : Rahul\n"
     ]
    }
   ],
   "source": [
    "#  3.MULTILEVEL INHERITANCE :\n",
    "\n",
    "#  In multilevel inheritance, features of the base class and the derived class are further inherited into the new derived class.\n",
    "#  This is similar to a relationship representing a child and a grandfather.\n",
    "\n",
    "# Base class\n",
    " \n",
    "class Grandfather:\n",
    " \n",
    "    def __init__(self, grandfathername):\n",
    "        self.grandfathername = grandfathername\n",
    " \n",
    "# Intermediate class\n",
    " \n",
    "class Father(Grandfather):\n",
    "    def __init__(self, fathername, grandfathername):\n",
    "        self.fathername = fathername\n",
    " \n",
    "        # invoking constructor of Grandfather class\n",
    "        Grandfather.__init__(self, grandfathername)\n",
    " \n",
    "# Derived class\n",
    " \n",
    "class Son(Father):\n",
    "    def __init__(self, sonname, fathername, grandfathername):\n",
    "        self.sonname = sonname\n",
    " \n",
    "        # invoking constructor of Father class\n",
    "        Father.__init__(self, fathername, grandfathername)\n",
    " \n",
    "    def print_name(self):\n",
    "        print('Grandfather name :', self.grandfathername)\n",
    "        print(\"Father name :\", self.fathername)\n",
    "        print(\"Son name :\", self.sonname)\n",
    " \n",
    " \n",
    "#  Driver code\n",
    "s1 = Son('Rahul', 'Vijay', 'Shami')\n",
    "print(s1.grandfathername)\n",
    "s1.print_name()"
   ]
  },
  {
   "cell_type": "code",
   "execution_count": 14,
   "id": "1df1333a-840f-4d74-b0d7-19fcc2cdfdb7",
   "metadata": {},
   "outputs": [
    {
     "name": "stdout",
     "output_type": "stream",
     "text": [
      "This function is in parent class.\n",
      "This function is in child 1.\n",
      "This function is in parent class.\n",
      "This function is in child 2.\n"
     ]
    }
   ],
   "source": [
    "#  4.HIERARCHICAL INHERITANCE:\n",
    "\n",
    "\n",
    "#   When more than one derived class are created from a single base this type of inheritance is called hierarchical inheritance.\n",
    "#   In this program, we have a parent (base) class and two child (derived) classes.\n",
    "\n",
    "# Base class\n",
    "class Parent:\n",
    "    def func1(self):\n",
    "        print(\"This function is in parent class.\")\n",
    "\n",
    "        \n",
    "# Derived class1\n",
    " \n",
    "class Child1(Parent):\n",
    "    def func2(self):\n",
    "        print(\"This function is in child 1.\")\n",
    "\n",
    "        \n",
    "# Derivied class2\n",
    " \n",
    "class Child2(Parent):\n",
    "    def func3(self):\n",
    "        print(\"This function is in child 2.\")\n",
    " \n",
    " \n",
    "# Driver's code\n",
    "object1 = Child1()\n",
    "object2 = Child2()\n",
    "object1.func1()\n",
    "object1.func2()\n",
    "object2.func1()\n",
    "object2.func3()"
   ]
  },
  {
   "cell_type": "code",
   "execution_count": 15,
   "id": "cad393fc-91bf-4693-ad0e-4310539692e4",
   "metadata": {},
   "outputs": [
    {
     "name": "stdout",
     "output_type": "stream",
     "text": [
      "This function is in school.\n",
      "This function is in student 1. \n"
     ]
    }
   ],
   "source": [
    "#  5.HYBRID INHERITANCE:\n",
    "\n",
    "\n",
    "#   Inheritance consisting of multiple types of inheritance is called hybrid inheritance.\n",
    "\n",
    "class School:\n",
    "    def func1(self):\n",
    "        print(\"This function is in school.\")\n",
    " \n",
    " \n",
    "class Student1(School):\n",
    "    def func2(self):\n",
    "        print(\"This function is in student 1. \")\n",
    " \n",
    " \n",
    "class Student2(School):\n",
    "    def func3(self):\n",
    "        print(\"This function is in student 2.\")\n",
    " \n",
    " \n",
    "class Student3(Student1, School):\n",
    "    def func4(self):\n",
    "        print(\"This function is in student 3.\")\n",
    " \n",
    " \n",
    "# Driver's code\n",
    "object = Student3()\n",
    "object.func1()\n",
    "object.func2()"
   ]
  },
  {
   "cell_type": "code",
   "execution_count": null,
   "id": "bacbd361-0e0a-434d-a2cc-e8d0791fd91f",
   "metadata": {},
   "outputs": [],
   "source": []
  }
 ],
 "metadata": {
  "kernelspec": {
   "display_name": "Python 3 (ipykernel)",
   "language": "python",
   "name": "python3"
  },
  "language_info": {
   "codemirror_mode": {
    "name": "ipython",
    "version": 3
   },
   "file_extension": ".py",
   "mimetype": "text/x-python",
   "name": "python",
   "nbconvert_exporter": "python",
   "pygments_lexer": "ipython3",
   "version": "3.10.8"
  }
 },
 "nbformat": 4,
 "nbformat_minor": 5
}
